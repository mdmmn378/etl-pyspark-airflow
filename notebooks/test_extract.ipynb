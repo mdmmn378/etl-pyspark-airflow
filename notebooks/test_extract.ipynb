{
 "cells": [
  {
   "cell_type": "code",
   "execution_count": 1,
   "id": "0c9ba46e-ecc0-4dba-b098-1fd07d70987a",
   "metadata": {},
   "outputs": [],
   "source": [
    "import os\n",
    "os.chdir(\"../\")"
   ]
  },
  {
   "cell_type": "code",
   "execution_count": 2,
   "id": "f4d2c802-c2a4-487b-a4dc-e623ed4122d7",
   "metadata": {},
   "outputs": [],
   "source": [
    "from pyspark.sql import SparkSession\n",
    "import pandas as pd\n",
    "import json\n",
    "from functools import partial"
   ]
  },
  {
   "cell_type": "code",
   "execution_count": 5,
   "id": "e8098806-74d4-4e5e-86e4-1b8dd5c891e9",
   "metadata": {},
   "outputs": [],
   "source": [
    "# spark_session = SparkSession.builder.appName(\"Test\").getOrCreate()\n",
    "spark_session = (\n",
    "    SparkSession.builder.appName(\"Python Spark SQL Hive integration example\")\n",
    "    .config(\"spark.executor.cores\", 8)\n",
    "    .config(\"spark.task.cpus\", 8)\n",
    "    .config(\"spark.cores.max\", 24)\n",
    "    .config(\"spark.driver.extraClassPath\", \"../jars/postgresql-42.3.3.jar\")\n",
    "    .getOrCreate()\n",
    ")\n"
   ]
  },
  {
   "cell_type": "code",
   "execution_count": 6,
   "id": "281990b0-d60c-4597-8c60-238d8bb1ec24",
   "metadata": {},
   "outputs": [],
   "source": [
    "analytics = spark_session.read.csv(\"datasets/analytics.csv\", quote=\"\\\"\", escape=\"\\\"\", header=True)"
   ]
  },
  {
   "cell_type": "code",
   "execution_count": 7,
   "id": "ec0be945-559b-4025-8395-1339e470da38",
   "metadata": {},
   "outputs": [],
   "source": [
    "transactions = spark_session.read.csv(\"datasets/transactions.csv\", quote=\"\\\"\", escape=\"\\\"\", header=True)"
   ]
  },
  {
   "cell_type": "code",
   "execution_count": 8,
   "id": "8192f2be-58b5-4167-93a8-882555b0cf1e",
   "metadata": {},
   "outputs": [],
   "source": [
    "users = spark_session.read.csv(\"datasets/users.csv\", quote=\"\\\"\", escape=\"\\\"\", header=True)"
   ]
  },
  {
   "cell_type": "code",
   "execution_count": 9,
   "id": "4ef7c40b-47a0-4325-82d6-4caa5ed64a3a",
   "metadata": {},
   "outputs": [
    {
     "name": "stderr",
     "output_type": "stream",
     "text": [
      "WARNING:root:'PYARROW_IGNORE_TIMEZONE' environment variable was not set. It is required to set this environment variable to '1' in both driver and executor sides if you use pyarrow>=2.0.0. pandas-on-Spark will set it for you but it does not work if there is a Spark context already launched.\n"
     ]
    }
   ],
   "source": [
    "users = users.to_pandas_on_spark()"
   ]
  },
  {
   "cell_type": "code",
   "execution_count": 10,
   "id": "eae3ef40-85a4-4f8b-9b06-77bba18a471f",
   "metadata": {},
   "outputs": [],
   "source": [
    "analytics = analytics.to_pandas_on_spark()"
   ]
  },
  {
   "cell_type": "code",
   "execution_count": 11,
   "id": "4eb7435b-57dd-40d2-bdf4-6fa6cbd98822",
   "metadata": {},
   "outputs": [],
   "source": [
    "transactions = transactions.to_pandas_on_spark()"
   ]
  },
  {
   "cell_type": "code",
   "execution_count": 12,
   "id": "eeb76f74-fddc-47c4-b47f-e05e86cab13e",
   "metadata": {},
   "outputs": [],
   "source": [
    "from utils.json_utils import parse_json\n",
    "from schemas.users import USERS_FIELD_DATA_SCHEMA\n",
    "from schemas.transactions import TRANSACTIONS_FIELD_DATA_SCHEMA"
   ]
  },
  {
   "cell_type": "code",
   "execution_count": 13,
   "id": "eea03307-414d-4b6f-9caf-1bbfbded55ab",
   "metadata": {},
   "outputs": [],
   "source": [
    "def expand_fields(x, schema):\n",
    "    data = json.loads(x[\"data\"])\n",
    "    data = parse_json(data, schema)\n",
    "    for i in schema:\n",
    "        x[i] = data[i]\n",
    "    return x"
   ]
  },
  {
   "cell_type": "code",
   "execution_count": 14,
   "id": "040f4042-b6cd-4ad5-84e3-4b73681b30c4",
   "metadata": {},
   "outputs": [],
   "source": [
    "users_data_field = partial(expand_fields, schema=USERS_FIELD_DATA_SCHEMA)\n",
    "transactions_data_field = partial(expand_fields, schema=TRANSACTIONS_FIELD_DATA_SCHEMA)"
   ]
  },
  {
   "cell_type": "code",
   "execution_count": 15,
   "id": "f8ee060b-edb0-4221-8913-2b4ad0c5d3cf",
   "metadata": {},
   "outputs": [],
   "source": [
    "users = users.apply(users_data_field, axis=1).drop(columns=[\"data\"])"
   ]
  },
  {
   "cell_type": "code",
   "execution_count": 16,
   "id": "9dba39b2-e864-49c1-8604-db767f045595",
   "metadata": {
    "tags": []
   },
   "outputs": [],
   "source": [
    "transactions = transactions.apply(transactions_data_field, axis=1).drop(columns=[\"data\"])"
   ]
  },
  {
   "cell_type": "code",
   "execution_count": 18,
   "id": "5b032d38-a5a6-48e5-866e-5375567d6851",
   "metadata": {},
   "outputs": [],
   "source": [
    "# users.document_id.nunique()"
   ]
  },
  {
   "cell_type": "code",
   "execution_count": 20,
   "id": "073d13cb-ddea-46cc-8cf2-2f8c17ea58fc",
   "metadata": {},
   "outputs": [],
   "source": [
    "# users.to_parquet(\"datasets/tmp.parquet\")"
   ]
  },
  {
   "cell_type": "code",
   "execution_count": 23,
   "id": "03f11159-2efb-4e32-8ae3-5162a6fd2712",
   "metadata": {},
   "outputs": [],
   "source": [
    "# users.to_spark().write.format(\"parquet\").save(\"tmp.parquet\")"
   ]
  },
  {
   "cell_type": "code",
   "execution_count": null,
   "id": "20dda820-bbe7-4239-bf70-3ba90ec4a720",
   "metadata": {},
   "outputs": [],
   "source": [
    "users"
   ]
  },
  {
   "cell_type": "code",
   "execution_count": null,
   "id": "4c510f80-f49f-43dd-812b-11250877a237",
   "metadata": {},
   "outputs": [],
   "source": []
  }
 ],
 "metadata": {
  "kernelspec": {
   "display_name": "Python 3",
   "language": "python",
   "name": "python3"
  },
  "language_info": {
   "codemirror_mode": {
    "name": "ipython",
    "version": 3
   },
   "file_extension": ".py",
   "mimetype": "text/x-python",
   "name": "python",
   "nbconvert_exporter": "python",
   "pygments_lexer": "ipython3",
   "version": "3.9.12"
  }
 },
 "nbformat": 4,
 "nbformat_minor": 5
}
