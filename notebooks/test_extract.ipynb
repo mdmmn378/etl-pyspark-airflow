{
 "cells": [
  {
   "cell_type": "markdown",
   "id": "08e089c3-9228-45e0-b0b1-209a73825004",
   "metadata": {},
   "source": [
    "# Load Modules"
   ]
  },
  {
   "cell_type": "code",
   "execution_count": 1,
   "id": "0c9ba46e-ecc0-4dba-b098-1fd07d70987a",
   "metadata": {},
   "outputs": [],
   "source": [
    "import os\n",
    "os.chdir(\"../\")"
   ]
  },
  {
   "cell_type": "code",
   "execution_count": 2,
   "id": "f4d2c802-c2a4-487b-a4dc-e623ed4122d7",
   "metadata": {},
   "outputs": [],
   "source": [
    "from pyspark.sql import SparkSession\n",
    "import pandas as pd\n",
    "import json\n",
    "from functools import partial"
   ]
  },
  {
   "cell_type": "code",
   "execution_count": 3,
   "id": "2b3d8ea3-7ee6-4a82-9dde-a6966fa7d3ec",
   "metadata": {},
   "outputs": [],
   "source": [
    "from pyspark.sql.functions import udf, lit, col"
   ]
  },
  {
   "cell_type": "code",
   "execution_count": 4,
   "id": "e8098806-74d4-4e5e-86e4-1b8dd5c891e9",
   "metadata": {},
   "outputs": [],
   "source": [
    "# spark_session = SparkSession.builder.appName(\"Test\").getOrCreate()\n",
    "# spark_session = (\n",
    "#     SparkSession.builder.appName(\"Python Spark SQL Hive integration example\")\n",
    "#     .config(\"spark.executor.cores\", 8)\n",
    "#     .config(\"spark.task.cpus\", 8)\n",
    "#     .config(\"spark.cores.max\", 24)\n",
    "#     .config(\"spark.driver.extraClassPath\", \"../jars/postgresql-42.3.3.jar\")\n",
    "#     .getOrCreate()\n",
    "# )\n",
    "# spark_session = (\n",
    "#     SparkSession.builder.appName(\"Python Spark SQL Hive integration example\")\n",
    "#     .config(\"spark.executor.cores\", 16)\n",
    "#     .config(\"spark.task.cpus\", 2)\n",
    "#     .config(\"spark.cores.max\", 24)\n",
    "#     .config(\"spark.executor.memory\", \"8g\")\n",
    "#     .config(\"spark.executor.instance\", 16)\n",
    "#     .config(\"spark.driver.memory\", \"8g\")\n",
    "#     # .config(\"spark.driver.extraClassPath\", \"../jars/postgresql-42.3.3.jar\")\n",
    "#     .getOrCreate()\n",
    "# )\n",
    "spark_session = (\n",
    "    SparkSession.builder.appName(\"Python Spark SQL Hive integration example\")\n",
    "    .config(\"spark.executor.memory\", \"8g\")\n",
    "    .config(\"spark.executor.instance\", 4)\n",
    "    .config(\"spark.driver.memory\", \"8g\")\n",
    "    .getOrCreate()\n",
    ")\n"
   ]
  },
  {
   "cell_type": "code",
   "execution_count": 5,
   "id": "5b1c72d5-bb09-4e5b-bdde-01786800b464",
   "metadata": {},
   "outputs": [],
   "source": [
    "import tempfile\n",
    "import pathlib"
   ]
  },
  {
   "cell_type": "code",
   "execution_count": 6,
   "id": "5825bdb6-2e57-4bad-a7a0-acbcef1a4549",
   "metadata": {},
   "outputs": [],
   "source": [
    "if not os.path.exists(\"./tmp\"):\n",
    "    os.makedirs(\"./tmp\")\n",
    "\n",
    "tempfile.tempdir = \"./tmp/\"\n",
    "dump_dir = tempfile.TemporaryDirectory()\n",
    "    \n"
   ]
  },
  {
   "cell_type": "code",
   "execution_count": 7,
   "id": "53cbe267-c700-48bf-81d4-a0a985abcd07",
   "metadata": {},
   "outputs": [],
   "source": [
    "# dump_dir = pathlib.Path(\"./tmp\")"
   ]
  },
  {
   "cell_type": "markdown",
   "id": "2e264385-1ce9-450b-b61e-16c5b6224b30",
   "metadata": {
    "tags": []
   },
   "source": [
    "### Make Utils"
   ]
  },
  {
   "cell_type": "code",
   "execution_count": 8,
   "id": "eeb76f74-fddc-47c4-b47f-e05e86cab13e",
   "metadata": {},
   "outputs": [],
   "source": [
    "from utils.json_utils import parse_json\n",
    "from schemas.users import USERS_FIELD_DATA_SCHEMA\n",
    "from schemas.transactions import TRANSACTIONS_FIELD_DATA_SCHEMA"
   ]
  },
  {
   "cell_type": "code",
   "execution_count": 9,
   "id": "e3f2f0de-0bef-4698-931c-5dcf2f01c023",
   "metadata": {},
   "outputs": [],
   "source": [
    "from utils.health import measure_time"
   ]
  },
  {
   "cell_type": "code",
   "execution_count": 10,
   "id": "3db3d6d6-b428-4ee7-bdbf-856bd9e8c5c0",
   "metadata": {},
   "outputs": [
    {
     "data": {
      "text/plain": [
       "{'id': {'path': ['id'], 'dtype': 'string'},\n",
       " 'user_last_activity': {'path': ['user_last_activity', '_seconds'],\n",
       "  'dtype': 'int'},\n",
       " 'user_signup_date': {'path': ['user_signup_date', '_seconds'],\n",
       "  'dtype': 'int'},\n",
       " 'rating': {'path': ['rating', 'stars'], 'dtype': 'string'}}"
      ]
     },
     "execution_count": 10,
     "metadata": {},
     "output_type": "execute_result"
    }
   ],
   "source": [
    "USERS_FIELD_DATA_SCHEMA"
   ]
  },
  {
   "cell_type": "code",
   "execution_count": 11,
   "id": "eea03307-414d-4b6f-9caf-1bbfbded55ab",
   "metadata": {},
   "outputs": [],
   "source": [
    "# def expand_fields(x, schema):\n",
    "#     data = json.loads(x[\"data\"])\n",
    "#     data = parse_json(data, schema)\n",
    "#     for i in schema:\n",
    "#         x[i] = data[i]\n",
    "#     return x"
   ]
  },
  {
   "cell_type": "code",
   "execution_count": 12,
   "id": "cecd8631-6078-4504-b8f5-49db47754ce8",
   "metadata": {},
   "outputs": [],
   "source": [
    "def jsonify_field(x, schema=None):\n",
    "    data = json.loads(x)\n",
    "    data = parse_json(data, schema)\n",
    "    return data"
   ]
  },
  {
   "cell_type": "code",
   "execution_count": 13,
   "id": "040f4042-b6cd-4ad5-84e3-4b73681b30c4",
   "metadata": {},
   "outputs": [],
   "source": [
    "users_data_field = partial(jsonify_field, schema=USERS_FIELD_DATA_SCHEMA)\n",
    "transactions_data_field = partial(jsonify_field, schema=TRANSACTIONS_FIELD_DATA_SCHEMA)"
   ]
  },
  {
   "cell_type": "markdown",
   "id": "6ad49e7a-e1ca-4ac8-8352-24c5927e4332",
   "metadata": {},
   "source": [
    "# Extract"
   ]
  },
  {
   "cell_type": "code",
   "execution_count": 14,
   "id": "281990b0-d60c-4597-8c60-238d8bb1ec24",
   "metadata": {},
   "outputs": [],
   "source": [
    "analytics = spark_session.read.csv(\"datasets/analytics.csv\", quote=\"\\\"\", escape=\"\\\"\", header=True)\n",
    "analytics.createOrReplaceTempView(\"analytics\")"
   ]
  },
  {
   "cell_type": "code",
   "execution_count": 15,
   "id": "ec0be945-559b-4025-8395-1339e470da38",
   "metadata": {},
   "outputs": [],
   "source": [
    "transactions = spark_session.read.csv(\"datasets/transactions.csv\", quote=\"\\\"\", escape=\"\\\"\", header=True)\n",
    "transactions.createOrReplaceTempView(\"transactions\")"
   ]
  },
  {
   "cell_type": "code",
   "execution_count": 16,
   "id": "8192f2be-58b5-4167-93a8-882555b0cf1e",
   "metadata": {},
   "outputs": [],
   "source": [
    "users = spark_session.read.csv(\"datasets/users.csv\", quote=\"\\\"\", escape=\"\\\"\", header=True)\n",
    "users.createOrReplaceTempView(\"users\")"
   ]
  },
  {
   "cell_type": "code",
   "execution_count": 18,
   "id": "82eb5586-f8dc-47e5-bc91-307a5f573dc3",
   "metadata": {},
   "outputs": [
    {
     "data": {
      "text/plain": [
       "Row(_c0='0', timestamp='2021-10-01 01:21:26.953627+00:00', event_id='cf0f4246-66b7-4fdd-b279-016ae5091545-0', document_name='projects/hisaab-7e8b4/databases/(default)/documents/_users/DrcOaVjp8FWTic6okQAYx2quxrU2', operation='UPDATE', document_id='DrcOaVjp8FWTic6okQAYx2quxrU2', data='{\"business_card\": {\"alternate_mobile_no\": \"03049445761\", \"business_name\": \"ALI HAIDER / FATHER\\'S Home Business \", \"coordinates\": {\"lat\": 31.1108119, \"lng\": 72.80649559999999}, \"location\": \"Chak # 45 GB,  Tehsil Samundri District FSD\", \"mobile_no\": \"03246820975\", \"name\": \"Ishtiaq Mehmood \"}, \"business_name\": \"ALI HAIDER / FATHER\\'S Home Business \", \"businesss_type\": \"General Store\", \"cashbook_current_balance\": -80, \"contextID\": \"d035dbe3-cee3-4e59-b964-4899b7d63a4d\", \"current_location\": {\"latitude\": 31.1062476, \"longitude\": 72.7949253}, \"fcm_token\": \"eNgv3-itRlm4FZZ901FtmY:APA91bG_HZObrNXbJJkn7ILDLlkLctTxW4eUHFxOILL42BX9Xb_uWxk5RXdHeSCNg7RXhf3drLAeVDIH4lqfOOwmUQz_8oprvPssvB0KiPXGPw7yDGww6hyOGJpQDyZFWimFc3lVCZNl\", \"fromNewAPP\": true, \"id\": \"DrcOaVjp8FWTic6okQAYx2quxrU2\", \"img_base_64\": \"\", \"img_url\": \"\", \"is_active\": true, \"location_our_logs\": null, \"location_past_logs\": null, \"nameLowerCase\": \"ishtiaq mehmood \", \"rating\": {\"feedback\": \"\", \"rated_timestamp\": {\"_seconds\": 1612024976, \"_nanoseconds\": 766000000}, \"stars\": 4}, \"referral_code\": \"DrcOaVjp\", \"user_last_activity\": {\"_seconds\": 1633051286, \"_nanoseconds\": 907000000}, \"user_signup_date\": {\"_seconds\": 1598745600, \"_nanoseconds\": 0}}')"
      ]
     },
     "execution_count": 18,
     "metadata": {},
     "output_type": "execute_result"
    }
   ],
   "source": [
    "users.collect()[0]"
   ]
  },
  {
   "cell_type": "code",
   "execution_count": 46,
   "id": "68fc0b9f-eb12-4c2c-9d78-255a311e3850",
   "metadata": {},
   "outputs": [],
   "source": [
    "users = users.withColumn(\"data\", udf(users_data_field)(col(\"data\")))\n",
    "transactions = transactions.withColumn(\"data\", udf(transactions_data_field)(col(\"data\")))"
   ]
  },
  {
   "cell_type": "code",
   "execution_count": 48,
   "id": "da868d7b-3e1a-44ae-b59e-9027efa1679e",
   "metadata": {},
   "outputs": [
    {
     "name": "stdout",
     "output_type": "stream",
     "text": [
      "+---+--------------------+--------------------+--------------------+---------+--------------------+--------------------+\n",
      "|_c0|           timestamp|            event_id|       document_name|operation|         document_id|                data|\n",
      "+---+--------------------+--------------------+--------------------+---------+--------------------+--------------------+\n",
      "|  0|2020-11-25 03:26:...|8f11bd01-d465-493...|projects/hisaab-7...|   CREATE|QgNGgxEvYNx6kmTdMM9o|{note=17.11, amou...|\n",
      "|  1|2020-11-25 04:15:...|ad7c8ad8-e48c-443...|projects/hisaab-7...|   CREATE|HCJ1trNIpJmBGDiC5L3U|{note=Sabon, amou...|\n",
      "|  2|2021-12-21 19:24:...|8a0b3966-b31b-434...|projects/hisaab-7...|   CREATE|a3878e83-ddea-45e...|{note=Jazz Monthl...|\n",
      "|  3|2021-12-21 19:37:...|d84c9101-0bcf-49a...|projects/hisaab-7...|   CREATE|29101f24-6a35-42c...|{note=, amount=40...|\n",
      "|  4|2020-11-24 13:29:...|93a5ae97-85b1-4aa...|projects/hisaab-7...|   CREATE|cCgOCm4wT5FxfpWblRhh|{note=Dr sent, am...|\n",
      "|  5|2020-11-24 14:06:...|9c1a5d48-7a5d-406...|projects/hisaab-7...|   CREATE|4dV3L3lZ8dotGRFIfS9X|{note=, amount=10...|\n",
      "|  6|2020-11-24 14:05:...|df622712-34f6-47c...|projects/hisaab-7...|   CREATE|U84UkvkILraJlPxZ1rqb|{note=, amount=30...|\n",
      "|  7|2021-12-21 18:26:...|bac0899e-1879-4dc...|projects/hisaab-7...|   CREATE|01e895cf-d7ca-4b9...|{note=, amount=20...|\n",
      "|  8|2021-12-21 18:34:...|7459b52a-e1fa-4bb...|projects/hisaab-7...|   CREATE|9b19f81e-6b2a-4d9...|{note=, amount=70...|\n",
      "|  9|2021-01-31 11:26:...|500b84f8-c197-449...|projects/hisaab-7...|   CREATE|FN7bxBPIRZT5GYf2DdJ4|{note=Seepac 1kg ...|\n",
      "| 10|2021-12-21 16:29:...|862718a4-b5c3-410...|projects/hisaab-7...|   CREATE|985e826f-a18e-4a4...|{note=, amount=20...|\n",
      "| 11|2021-12-21 09:05:...|c91b0a72-64f5-462...|projects/hisaab-7...|   CREATE|d2822c8b-3c2c-40b...|{note=, amount=80...|\n",
      "| 12|2021-12-21 09:44:...|e0c08ece-a373-43e...|projects/hisaab-7...|   CREATE|9d536ccb-00a1-488...|{note=40 Bags 100...|\n",
      "| 13|2021-12-21 09:53:...|beb7aefe-a67d-406...|projects/hisaab-7...|   CREATE|c6a70ef7-c133-43b...|{note=, amount=10...|\n",
      "| 14|2021-01-31 14:13:...|8939c468-91a7-488...|projects/hisaab-7...|   CREATE|0cTA8GT4KlLisNdQh6Oq|{note=, amount=10...|\n",
      "| 15|2021-01-31 13:36:...|8dd42406-29fd-491...|projects/hisaab-7...|   CREATE|2N42uN6PJSMRNKDWz7Gd|{note=Blb shahbee...|\n",
      "| 16|2021-01-31 13:45:...|2a6cc722-4b47-475...|projects/hisaab-7...|   CREATE|566zigtU1CgFhPqxf6Kc|{note=, amount=45...|\n",
      "| 17|2021-12-21 17:01:...|d39bf830-c164-464...|projects/hisaab-7...|   CREATE|cb701f68-a897-43d...|{note=Dawa, amoun...|\n",
      "| 18|2021-12-21 17:16:...|24cfa3f2-c47e-4c1...|projects/hisaab-7...|   CREATE|UboGPHfDIbMQP0XlD5rc|{note=, amount=20...|\n",
      "| 19|2021-12-21 08:43:...|4ad7c531-7f06-46c...|projects/hisaab-7...|   CREATE|879cce2f-caa3-404...|{note=Pad, amount...|\n",
      "+---+--------------------+--------------------+--------------------+---------+--------------------+--------------------+\n",
      "only showing top 20 rows\n",
      "\n"
     ]
    }
   ],
   "source": [
    "transactions.show()"
   ]
  },
  {
   "cell_type": "code",
   "execution_count": 64,
   "id": "2c944476-59c8-41ec-84fc-ab812272ade2",
   "metadata": {},
   "outputs": [
    {
     "name": "stdout",
     "output_type": "stream",
     "text": [
      "+---+---------+--------+-------------+---------+-----------+----+---+---------+--------+-------------+---------+-----------+----+\n",
      "|_c0|timestamp|event_id|document_name|operation|document_id|data|_c0|timestamp|event_id|document_name|operation|document_id|data|\n",
      "+---+---------+--------+-------------+---------+-----------+----+---+---------+--------+-------------+---------+-----------+----+\n",
      "+---+---------+--------+-------------+---------+-----------+----+---+---------+--------+-------------+---------+-----------+----+\n",
      "\n"
     ]
    }
   ],
   "source": [
    "spark_session.sql(\"select * from users join transactions on users.event_id=transactions.event_id\").show()"
   ]
  },
  {
   "cell_type": "code",
   "execution_count": 57,
   "id": "f975bc18-eaa9-492e-b299-24bdbe6ef52d",
   "metadata": {},
   "outputs": [
    {
     "name": "stdout",
     "output_type": "stream",
     "text": [
      "+---+---------+--------+-------------+---------+-----------+----+\n",
      "|_c0|timestamp|event_id|document_name|operation|document_id|data|\n",
      "+---+---------+--------+-------------+---------+-----------+----+\n",
      "+---+---------+--------+-------------+---------+-----------+----+\n",
      "\n"
     ]
    }
   ],
   "source": [
    "users.filter(users.document_id.contains(\"QgNGgxEvYNx6kmTdMM9o\")).show()"
   ]
  },
  {
   "cell_type": "code",
   "execution_count": 73,
   "id": "b5aa4232-71c5-48e4-b9dc-6f12979f87d7",
   "metadata": {},
   "outputs": [
    {
     "name": "stdout",
     "output_type": "stream",
     "text": [
      "+---+--------------------+--------------------+--------------------+---------+--------------------+--------------------+\n",
      "|_c0|           timestamp|            event_id|       document_name|operation|         document_id|                data|\n",
      "+---+--------------------+--------------------+--------------------+---------+--------------------+--------------------+\n",
      "|  0|2021-10-01 01:21:...|cf0f4246-66b7-4fd...|projects/hisaab-7...|   UPDATE|DrcOaVjp8FWTic6ok...|{rating=4, user_l...|\n",
      "|  1|2021-08-13 15:21:...|2ccb8df6-fe72-4bc...|projects/hisaab-7...|   UPDATE|DrcOaVjp8FWTic6ok...|{rating=4, user_l...|\n",
      "|  2|2021-07-03 15:38:...|4c4cdb6e-aee8-46a...|projects/hisaab-7...|   UPDATE|DrcOaVjp8FWTic6ok...|{rating=4, user_l...|\n",
      "+---+--------------------+--------------------+--------------------+---------+--------------------+--------------------+\n",
      "only showing top 3 rows\n",
      "\n"
     ]
    }
   ],
   "source": [
    "users.show(3)"
   ]
  },
  {
   "cell_type": "code",
   "execution_count": 81,
   "id": "1296b59c-f150-4b8c-bb61-74de434de6a6",
   "metadata": {},
   "outputs": [],
   "source": [
    "users_schema = {\"_c0\": str, \"timestamp\": str, \"event_id\": str, \"document_name\": str, \"operation\": str, \"document_id\": str, \"data\": {\"id\": str, \"user_la\"}}"
   ]
  },
  {
   "cell_type": "code",
   "execution_count": 77,
   "id": "1696ec8e-8e65-4ddd-8d78-dc30c86f1cac",
   "metadata": {},
   "outputs": [
    {
     "name": "stdout",
     "output_type": "stream",
     "text": [
      "+---+--------------------+--------------------+--------------------+---------+--------------------+--------------------+\n",
      "|_c0|           timestamp|            event_id|       document_name|operation|         document_id|                data|\n",
      "+---+--------------------+--------------------+--------------------+---------+--------------------+--------------------+\n",
      "|  0|2021-10-01 01:21:...|cf0f4246-66b7-4fd...|projects/hisaab-7...|   UPDATE|DrcOaVjp8FWTic6ok...|{rating=4, user_l...|\n",
      "|  1|2021-08-13 15:21:...|2ccb8df6-fe72-4bc...|projects/hisaab-7...|   UPDATE|DrcOaVjp8FWTic6ok...|{rating=4, user_l...|\n",
      "|  2|2021-07-03 15:38:...|4c4cdb6e-aee8-46a...|projects/hisaab-7...|   UPDATE|DrcOaVjp8FWTic6ok...|{rating=4, user_l...|\n",
      "|  3|2020-12-13 06:45:...|79ed83bd-e2f6-412...|projects/hisaab-7...|   UPDATE|DrcOaVjp8FWTic6ok...|{rating=null, use...|\n",
      "|  4|2021-08-11 17:38:...|c53137da-9c78-483...|projects/hisaab-7...|   UPDATE|DrcOaVjp8FWTic6ok...|{rating=4, user_l...|\n",
      "|  5|2020-11-30 15:42:...|bfd0394b-a29a-4ce...|projects/hisaab-7...|   UPDATE|DrcOaVjp8FWTic6ok...|{rating=null, use...|\n",
      "|  6|2021-01-19 17:13:...|56011999-bebc-404...|projects/hisaab-7...|   UPDATE|DrcOaVjp8FWTic6ok...|{rating=null, use...|\n",
      "|  7|2021-05-02 14:59:...|942b45d6-7222-447...|projects/hisaab-7...|   UPDATE|DrcOaVjp8FWTic6ok...|{rating=4, user_l...|\n",
      "|  8|2021-05-23 04:03:...|1bb586d0-3cea-4e0...|projects/hisaab-7...|   UPDATE|DrcOaVjp8FWTic6ok...|{rating=4, user_l...|\n",
      "|  9|2021-08-21 01:22:...|41fc3eca-ed6c-4a1...|projects/hisaab-7...|   UPDATE|DrcOaVjp8FWTic6ok...|{rating=4, user_l...|\n",
      "| 10|2021-03-04 17:35:...|f1a55e27-a1cc-478...|projects/hisaab-7...|   UPDATE|DrcOaVjp8FWTic6ok...|{rating=4, user_l...|\n",
      "| 11|2021-03-27 01:25:...|850d114e-8c8e-440...|projects/hisaab-7...|   UPDATE|DrcOaVjp8FWTic6ok...|{rating=4, user_l...|\n",
      "| 12|2021-04-18 06:31:...|94f6a73a-9b4c-478...|projects/hisaab-7...|   UPDATE|DrcOaVjp8FWTic6ok...|{rating=4, user_l...|\n",
      "| 13|2021-02-06 02:50:...|81b7bf24-e83a-412...|projects/hisaab-7...|   UPDATE|DrcOaVjp8FWTic6ok...|{rating=4, user_l...|\n",
      "| 14|2021-06-30 17:35:...|61ddf7be-51f4-4cd...|projects/hisaab-7...|   UPDATE|DrcOaVjp8FWTic6ok...|{rating=4, user_l...|\n",
      "| 15|2021-04-03 05:40:...|9bde0e64-646c-4c6...|projects/hisaab-7...|   UPDATE|DrcOaVjp8FWTic6ok...|{rating=4, user_l...|\n",
      "| 16|2021-11-05 16:56:...|148ad8d9-85ff-44b...|projects/hisaab-7...|   UPDATE|DrcOaVjp8FWTic6ok...|{rating=4, user_l...|\n",
      "| 17|2021-11-06 16:59:...|d75d2997-53b5-416...|projects/hisaab-7...|   UPDATE|DrcOaVjp8FWTic6ok...|{rating=4, user_l...|\n",
      "| 18|2021-06-30 06:58:...|701780c7-6194-4bf...|projects/hisaab-7...|   UPDATE|DrcOaVjp8FWTic6ok...|{rating=4, user_l...|\n",
      "| 19|2021-09-17 02:32:...|088b3afe-20c7-4d9...|projects/hisaab-7...|   UPDATE|DrcOaVjp8FWTic6ok...|{rating=4, user_l...|\n",
      "+---+--------------------+--------------------+--------------------+---------+--------------------+--------------------+\n",
      "only showing top 20 rows\n",
      "\n"
     ]
    }
   ],
   "source": [
    "spark_session.createDataFrame(users.toPandas(), schema=users_schema).show()"
   ]
  },
  {
   "cell_type": "code",
   "execution_count": 65,
   "id": "a0c67fd6-aa48-44fc-986d-64bb68f088bb",
   "metadata": {},
   "outputs": [
    {
     "name": "stdout",
     "output_type": "stream",
     "text": [
      "+---+----------+--------------------+--------------------+--------------------+--------------------+-------------------+----------+---------------+----------+-----------+\n",
      "|_c0|event_date|     event_timestamp|          event_name|             user_id|      user_pseudo_id|       device_model|android_os|device_language|city_geoIp|app_version|\n",
      "+---+----------+--------------------+--------------------+--------------------+--------------------+-------------------+----------+---------------+----------+-----------+\n",
      "|  0|2021-09-01|2021-09-01 04:37:...|       session_start|229cb688-c853-461...|2f74ce381d6e3fa4e...|      mobile S1 Pro| Android 9|          en-us|   Karachi|     2.26.0|\n",
      "|  1|2021-09-01|2021-09-01 12:52:...|   Click_GivePayment|3bddd824-6deb-42a...|dfa278c52ad12e690...|mobile Reno5 Pro 5G|Android 11|          en-au|   Karachi|     2.26.0|\n",
      "|  2|2021-09-01|2021-08-31 19:29:...|Click_Recievepayment|3bddd824-6deb-42a...|dfa278c52ad12e690...|mobile Reno5 Pro 5G|Android 11|          en-au|   Karachi|     2.26.0|\n",
      "|  3|2021-09-01|2021-09-01 03:19:...|Click_Clickdictta...|229cb688-c853-461...|2f74ce381d6e3fa4e...|      mobile S1 Pro| Android 9|          en-us|   Karachi|     2.26.0|\n",
      "|  4|2021-09-01|2021-09-01 03:03:...|      ViewDataBackup|229cb688-c853-461...|2f74ce381d6e3fa4e...|      mobile S1 Pro| Android 9|          en-us|   Karachi|     2.26.0|\n",
      "|  5|2021-09-01|2021-08-31 19:28:...|Give_Payment_Succ...|3bddd824-6deb-42a...|dfa278c52ad12e690...|mobile Reno5 Pro 5G|Android 11|          en-au|   Karachi|     2.26.0|\n",
      "|  6|2021-09-01|2021-09-01 12:52:...|ViewTransactionDe...|3bddd824-6deb-42a...|dfa278c52ad12e690...|mobile Reno5 Pro 5G|Android 11|          en-au|   Karachi|     2.26.0|\n",
      "|  7|2021-09-01|2021-09-01 12:52:...|Give_Payment_Succ...|3bddd824-6deb-42a...|dfa278c52ad12e690...|mobile Reno5 Pro 5G|Android 11|          en-au|   Karachi|     2.26.0|\n",
      "|  8|2021-09-01|2021-09-01 06:56:...|Click_HamburgerMe...|229cb688-c853-461...|2f74ce381d6e3fa4e...|      mobile S1 Pro| Android 9|          en-us|   Karachi|     2.26.0|\n",
      "|  9|2021-09-01|2021-09-01 03:15:...| Success_Search_Home|229cb688-c853-461...|2f74ce381d6e3fa4e...|      mobile S1 Pro| Android 9|          en-us|   Karachi|     2.26.0|\n",
      "| 10|2021-09-01|2021-08-31 19:27:...|     Add_Transaction|3bddd824-6deb-42a...|dfa278c52ad12e690...|mobile Reno5 Pro 5G|Android 11|          en-au|   Karachi|     2.26.0|\n",
      "| 11|2021-09-01|2021-09-01 18:53:...| Success_Search_Home|3bddd824-6deb-42a...|dfa278c52ad12e690...|mobile Reno5 Pro 5G|Android 11|          en-au|   Karachi|     2.26.0|\n",
      "| 12|2021-09-01|2021-08-31 19:26:...|     Add_Transaction|3bddd824-6deb-42a...|dfa278c52ad12e690...|mobile Reno5 Pro 5G|Android 11|          en-au|   Karachi|     2.26.0|\n",
      "| 13|2021-09-01|2021-08-31 19:25:...|       session_start|3bddd824-6deb-42a...|dfa278c52ad12e690...|mobile Reno5 Pro 5G|Android 11|          en-au|   Karachi|     2.26.0|\n",
      "| 14|2021-09-01|2021-09-01 02:38:...|Click_HamburgerMe...|229cb688-c853-461...|2f74ce381d6e3fa4e...|      mobile S1 Pro| Android 9|          en-us|   Karachi|     2.26.0|\n",
      "| 15|2021-09-01|2021-09-01 12:52:...|     Add_Transaction|3bddd824-6deb-42a...|dfa278c52ad12e690...|mobile Reno5 Pro 5G|Android 11|          en-au|   Karachi|     2.26.0|\n",
      "| 16|2021-09-01|2021-09-01 12:52:...|  Delete_Transaction|3bddd824-6deb-42a...|dfa278c52ad12e690...|mobile Reno5 Pro 5G|Android 11|          en-au|   Karachi|     2.26.0|\n",
      "| 17|2021-09-01|2021-09-01 12:52:...|   Click_GivePayment|3bddd824-6deb-42a...|dfa278c52ad12e690...|mobile Reno5 Pro 5G|Android 11|          en-au|   Karachi|     2.26.0|\n",
      "| 18|2021-09-01|2021-09-01 02:38:...|      ViewDataBackup|229cb688-c853-461...|2f74ce381d6e3fa4e...|      mobile S1 Pro| Android 9|          en-us|   Karachi|     2.26.0|\n",
      "| 19|2021-09-01|2021-09-01 03:19:...|   Click_GivePayment|229cb688-c853-461...|2f74ce381d6e3fa4e...|      mobile S1 Pro| Android 9|          en-us|   Karachi|     2.26.0|\n",
      "+---+----------+--------------------+--------------------+--------------------+--------------------+-------------------+----------+---------------+----------+-----------+\n",
      "only showing top 20 rows\n",
      "\n"
     ]
    }
   ],
   "source": [
    "analytics.show()"
   ]
  },
  {
   "cell_type": "markdown",
   "id": "89098648-5346-486b-b50e-c27ec3296636",
   "metadata": {},
   "source": [
    "### Apply transformation"
   ]
  },
  {
   "cell_type": "code",
   "execution_count": 19,
   "id": "f8ee060b-edb0-4221-8913-2b4ad0c5d3cf",
   "metadata": {},
   "outputs": [],
   "source": [
    "users = users.apply(users_data_field, axis=1).drop(columns=[\"data\"])"
   ]
  },
  {
   "cell_type": "code",
   "execution_count": 20,
   "id": "9dba39b2-e864-49c1-8604-db767f045595",
   "metadata": {
    "tags": []
   },
   "outputs": [],
   "source": [
    "transactions = transactions.apply(transactions_data_field, axis=1).drop(columns=[\"data\"])"
   ]
  },
  {
   "cell_type": "code",
   "execution_count": 21,
   "id": "253f7f6d-8e1e-438e-a12e-5a78a6351a42",
   "metadata": {},
   "outputs": [],
   "source": [
    "users = users.to_spark()"
   ]
  },
  {
   "cell_type": "code",
   "execution_count": null,
   "id": "d01e234f-7766-4e55-a022-c91438603109",
   "metadata": {},
   "outputs": [],
   "source": [
    "users.collect()"
   ]
  },
  {
   "cell_type": "markdown",
   "id": "b98e79ec-8e0c-488d-b326-0f7bf1a70bf5",
   "metadata": {},
   "source": [
    "# Transform"
   ]
  },
  {
   "cell_type": "code",
   "execution_count": null,
   "id": "cb11086b-371f-478e-8c1d-7985028cf122",
   "metadata": {},
   "outputs": [],
   "source": [
    "users.head()"
   ]
  },
  {
   "cell_type": "code",
   "execution_count": null,
   "id": "25bae48e-ed1c-456e-857b-290722e14fa5",
   "metadata": {},
   "outputs": [],
   "source": [
    "transactions.head()"
   ]
  },
  {
   "cell_type": "code",
   "execution_count": null,
   "id": "416a5050-9c9c-427f-81bc-960185f7e7d9",
   "metadata": {},
   "outputs": [],
   "source": [
    "analytics.head()"
   ]
  },
  {
   "cell_type": "code",
   "execution_count": null,
   "id": "774f24f0-4c38-4d05-860c-6ae0d0d56939",
   "metadata": {},
   "outputs": [],
   "source": [
    "all_user_ids = analytics.to_pandas().user_pseudo_id"
   ]
  },
  {
   "cell_type": "code",
   "execution_count": null,
   "id": "43bdcd65-e927-4e40-8e1c-efffd7f6f42e",
   "metadata": {},
   "outputs": [],
   "source": [
    "\"ba5e4473-d825-44d3-872b-78ff3061ad8d\" in all_user_ids"
   ]
  },
  {
   "cell_type": "markdown",
   "id": "85135e31-8228-4c7a-a9fd-769916023e01",
   "metadata": {},
   "source": [
    "### Merge"
   ]
  },
  {
   "cell_type": "code",
   "execution_count": null,
   "id": "bafaf471-91a4-467f-8f82-a6afd6e9540d",
   "metadata": {},
   "outputs": [],
   "source": [
    "users = users.to_spark()"
   ]
  },
  {
   "cell_type": "code",
   "execution_count": null,
   "id": "5aa42f68-bdf4-443e-9849-510bf26fbf49",
   "metadata": {},
   "outputs": [],
   "source": [
    "transactions = transactions.to_spark()"
   ]
  },
  {
   "cell_type": "code",
   "execution_count": null,
   "id": "e520c4e8-f1e4-4b6d-a970-aab3cea3a4ed",
   "metadata": {},
   "outputs": [],
   "source": [
    "users.createTempView(\"users\")"
   ]
  },
  {
   "cell_type": "code",
   "execution_count": null,
   "id": "5a79215c-bfec-4e7c-aca6-9e383be3f28c",
   "metadata": {},
   "outputs": [],
   "source": [
    "spark_session.sql(\"select event_id from users limit 10\").collect()"
   ]
  },
  {
   "cell_type": "code",
   "execution_count": null,
   "id": "7a9e1ac2-4fec-4425-a76a-3341de713fad",
   "metadata": {},
   "outputs": [],
   "source": [
    "users.select(\"event_id\").collect()"
   ]
  },
  {
   "cell_type": "markdown",
   "id": "313845a9-4ba5-4109-acf7-46c7ff3e26a8",
   "metadata": {},
   "source": [
    "## Tests"
   ]
  }
 ],
 "metadata": {
  "kernelspec": {
   "display_name": "Python 3",
   "language": "python",
   "name": "python3"
  },
  "language_info": {
   "codemirror_mode": {
    "name": "ipython",
    "version": 3
   },
   "file_extension": ".py",
   "mimetype": "text/x-python",
   "name": "python",
   "nbconvert_exporter": "python",
   "pygments_lexer": "ipython3",
   "version": "3.9.12"
  }
 },
 "nbformat": 4,
 "nbformat_minor": 5
}
