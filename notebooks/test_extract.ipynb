{
 "cells": [
  {
   "cell_type": "markdown",
   "id": "08e089c3-9228-45e0-b0b1-209a73825004",
   "metadata": {},
   "source": [
    "# Load Modules"
   ]
  },
  {
   "cell_type": "code",
   "execution_count": 19,
   "id": "0c9ba46e-ecc0-4dba-b098-1fd07d70987a",
   "metadata": {},
   "outputs": [],
   "source": [
    "import os\n",
    "\n",
    "os.chdir(\"../\")"
   ]
  },
  {
   "cell_type": "code",
   "execution_count": 20,
   "id": "f4d2c802-c2a4-487b-a4dc-e623ed4122d7",
   "metadata": {},
   "outputs": [],
   "source": [
    "from pyspark.sql import SparkSession\n",
    "import pandas as pd\n",
    "import json\n",
    "from functools import partial\n",
    "from pyspark.sql import DataFrameStatFunctions as dstat\n",
    "from pyspark.sql import functions as funcs"
   ]
  },
  {
   "cell_type": "code",
   "execution_count": 21,
   "id": "2b3d8ea3-7ee6-4a82-9dde-a6966fa7d3ec",
   "metadata": {},
   "outputs": [],
   "source": [
    "from pyspark.sql.functions import (\n",
    "    udf,\n",
    "    lit,\n",
    "    col,\n",
    "    current_date,\n",
    "    datediff,\n",
    "    timestamp_seconds,\n",
    "    current_timestamp,\n",
    ")"
   ]
  },
  {
   "cell_type": "code",
   "execution_count": 22,
   "id": "8d0d8d3b-e151-4c0e-9c41-5c9855647daa",
   "metadata": {},
   "outputs": [],
   "source": [
    "from schemas.users import USERS_FIELD_DATA_SCHEMA\n",
    "from schemas.transactions import TRANSACTIONS_FIELD_DATA_SCHEMA"
   ]
  },
  {
   "cell_type": "code",
   "execution_count": 23,
   "id": "0f007a7f-837f-4e7b-b4a5-c4a59bcab904",
   "metadata": {},
   "outputs": [],
   "source": [
    "from pipeline.extract import create_df_columns, read_csv, convert_column_to_json"
   ]
  },
  {
   "cell_type": "code",
   "execution_count": 24,
   "id": "e8098806-74d4-4e5e-86e4-1b8dd5c891e9",
   "metadata": {},
   "outputs": [],
   "source": [
    "# spark_session = SparkSession.builder.appName(\"Test\").getOrCreate()\n",
    "spark_session = (\n",
    "    SparkSession.builder.appName(\"CreditBook ETL\")\n",
    "    .config(\"spark.executor.cores\", 8)\n",
    "    .config(\"spark.task.cpus\", 8)\n",
    "    .config(\"spark.cores.max\", 24)\n",
    "    .config(\"spark.driver.extraClassPath\", \"jars/postgresql-42.3.3.jar\")\n",
    "    .config(\"spark.executor.memory\", \"8g\")\n",
    "    .config(\"spark.executor.instance\", 4)\n",
    "    .config(\"spark.driver.memory\", \"8g\")\n",
    "    .config(\"spark.driver.maxResultSize\", \"8g\")\n",
    "    .getOrCreate()\n",
    ")\n",
    "# spark_session = (\n",
    "#     SparkSession.builder.appName(\"Python Spark SQL Hive integration example\")\n",
    "#     .config(\"spark.executor.cores\", 16)\n",
    "#     .config(\"spark.task.cpus\", 2)\n",
    "#     .config(\"spark.cores.max\", 24)\n",
    "#     .config(\"spark.executor.memory\", \"8g\")\n",
    "#     .config(\"spark.executor.instance\", 16)\n",
    "#     .config(\"spark.driver.memory\", \"8g\")\n",
    "#     # .config(\"spark.driver.extraClassPath\", \"../jars/postgresql-42.3.3.jar\")\n",
    "#     .getOrCreate()\n",
    "# )\n",
    "# spark_session = (\n",
    "#     SparkSession.builder.appName(\"Python Spark SQL Hive integration example\")\n",
    "#     .config(\"spark.executor.memory\", \"8g\")\n",
    "#     .config(\"spark.executor.instance\", 4)\n",
    "#     .config(\"spark.driver.memory\", \"8g\")\n",
    "#     .getOrCreate()\n",
    "# )"
   ]
  },
  {
   "cell_type": "markdown",
   "id": "6ad49e7a-e1ca-4ac8-8352-24c5927e4332",
   "metadata": {},
   "source": [
    "# Extract"
   ]
  },
  {
   "cell_type": "code",
   "execution_count": 25,
   "id": "da6509df-6118-4f5f-86cb-137f9dba3254",
   "metadata": {},
   "outputs": [],
   "source": [
    "users = read_csv(spark_session, \"datasets/users.csv\", \"users\")\n",
    "users = convert_column_to_json(users, \"data\", USERS_FIELD_DATA_SCHEMA)\n",
    "users = create_df_columns(users, USERS_FIELD_DATA_SCHEMA, \"data\")"
   ]
  },
  {
   "cell_type": "code",
   "execution_count": 26,
   "id": "35d2d195-9aeb-4566-845d-2589c08e7b27",
   "metadata": {},
   "outputs": [],
   "source": [
    "analytics = read_csv(spark_session, \"./datasets/analytics.csv\", \"analytics\")"
   ]
  },
  {
   "cell_type": "code",
   "execution_count": 27,
   "id": "aa2b76e9-a3c7-4df3-aee8-db8b29df53a5",
   "metadata": {},
   "outputs": [],
   "source": [
    "transactions = read_csv(spark_session, \"./datasets/transactions.csv\", \"transactions\")\n",
    "transactions = convert_column_to_json(\n",
    "    transactions, \"data\", TRANSACTIONS_FIELD_DATA_SCHEMA\n",
    ")\n",
    "transactions = create_df_columns(transactions, TRANSACTIONS_FIELD_DATA_SCHEMA, \"data\")"
   ]
  },
  {
   "cell_type": "code",
   "execution_count": 28,
   "id": "1d0c563f-9f1f-4b2c-8348-76b449301133",
   "metadata": {},
   "outputs": [
    {
     "name": "stdout",
     "output_type": "stream",
     "text": [
      "+---+----------+----------+-------------+---------+-----------+----------+----------+------------------+----------------+------+\n",
      "|_c0| timestamp|  event_id|document_name|operation|document_id|      data|        id|user_last_activity|user_signup_date|rating|\n",
      "+---+----------+----------+-------------+---------+-----------+----------+----------+------------------+----------------+------+\n",
      "|  0|2021-10...|cf0f424...|   project...|   UPDATE| DrcOaVj...|{rating...|DrcOaVj...|        1633051286|      1598745600|   4.0|\n",
      "|  1|2021-08...|2ccb8df...|   project...|   UPDATE| DrcOaVj...|{rating...|DrcOaVj...|        1628868069|      1598745600|   4.0|\n",
      "|  2|2021-07...|4c4cdb6...|   project...|   UPDATE| DrcOaVj...|{rating...|DrcOaVj...|        1625326718|      1598745600|   4.0|\n",
      "|  3|2020-12...|79ed83b...|   project...|   UPDATE| DrcOaVj...|{rating...|DrcOaVj...|        1607841920|            null|  null|\n",
      "|  4|2021-08...|c53137d...|   project...|   UPDATE| DrcOaVj...|{rating...|DrcOaVj...|        1628703482|      1598745600|   4.0|\n",
      "+---+----------+----------+-------------+---------+-----------+----------+----------+------------------+----------------+------+\n",
      "only showing top 5 rows\n",
      "\n"
     ]
    }
   ],
   "source": [
    "users.show(5, truncate=10)"
   ]
  },
  {
   "cell_type": "code",
   "execution_count": 29,
   "id": "89715342-4c1c-414c-b6c9-7eb54b9ad3f0",
   "metadata": {},
   "outputs": [
    {
     "name": "stdout",
     "output_type": "stream",
     "text": [
      "+---+----------+----------+-------------+---------+-----------+----------+-------+------------------+--------------------------------------+----------+---------------------+----------------+-------+----------+\n",
      "|_c0| timestamp|  event_id|document_name|operation|document_id|      data| amount|creation_timestamp|customer_net_balance_after_transaction|      note|transaction_timestamp|transaction_type|   type|   user_id|\n",
      "+---+----------+----------+-------------+---------+-----------+----------+-------+------------------+--------------------------------------+----------+---------------------+----------------+-------+----------+\n",
      "|  0|2020-11...|8f11bd0...|   project...|   CREATE| QgNGgxE...|{note=1...| 1000.0|        1606274802|                               -9000.0|     17.11|           1606274802|          credit|default|ba5e447...|\n",
      "|  1|2020-11...|ad7c8ad...|   project...|   CREATE| HCJ1trN...|{note=S...|   60.0|        1606277763|                                 838.0|     Sabon|           1606277763|          credit|default|cc0e78f...|\n",
      "|  2|2021-12...|8a0b396...|   project...|   CREATE| a3878e8...|{note=J...|  700.0|        1640114677|                                -700.0|Jazz Mo...|           1640114668|           debit|default|DrcOaVj...|\n",
      "|  3|2021-12...|d84c910...|   project...|   CREATE| 29101f2...|{note=,...| 4050.0|        1640115477|                                4050.0|          |           1640115467|          credit|default|74bd445...|\n",
      "|  4|2020-11...|93a5ae9...|   project...|   CREATE| cCgOCm4...|{note=D...|10000.0|        1606224593|                              -89785.0|   Dr sent|           1606224593|           debit|default|8c483cd...|\n",
      "+---+----------+----------+-------------+---------+-----------+----------+-------+------------------+--------------------------------------+----------+---------------------+----------------+-------+----------+\n",
      "only showing top 5 rows\n",
      "\n"
     ]
    }
   ],
   "source": [
    "transactions.show(5, truncate=10)"
   ]
  },
  {
   "cell_type": "code",
   "execution_count": 30,
   "id": "5cdfb4fa-db45-4e69-b641-beaa123f4e82",
   "metadata": {},
   "outputs": [
    {
     "name": "stdout",
     "output_type": "stream",
     "text": [
      "+---+----------+---------------+----------+-------+--------------+------------+----------+---------------+----------+-----------+\n",
      "|_c0|event_date|event_timestamp|event_name|user_id|user_pseudo_id|device_model|android_os|device_language|city_geoIp|app_version|\n",
      "+---+----------+---------------+----------+-------+--------------+------------+----------+---------------+----------+-----------+\n",
      "|  0|     20...|          20...|     se...|  22...|         2f...|       mo...|     An...|          en-us|     Ka...|      2....|\n",
      "|  1|     20...|          20...|     Cl...|  3b...|         df...|       mo...|     An...|          en-au|     Ka...|      2....|\n",
      "|  2|     20...|          20...|     Cl...|  3b...|         df...|       mo...|     An...|          en-au|     Ka...|      2....|\n",
      "|  3|     20...|          20...|     Cl...|  22...|         2f...|       mo...|     An...|          en-us|     Ka...|      2....|\n",
      "|  4|     20...|          20...|     Vi...|  22...|         2f...|       mo...|     An...|          en-us|     Ka...|      2....|\n",
      "+---+----------+---------------+----------+-------+--------------+------------+----------+---------------+----------+-----------+\n",
      "only showing top 5 rows\n",
      "\n"
     ]
    }
   ],
   "source": [
    "analytics.show(5, truncate=5)"
   ]
  },
  {
   "cell_type": "code",
   "execution_count": 31,
   "id": "0d7f1f8f-9250-4e03-92e9-490b00bf0769",
   "metadata": {},
   "outputs": [
    {
     "name": "stdout",
     "output_type": "stream",
     "text": [
      "root\n",
      " |-- _c0: string (nullable = true)\n",
      " |-- timestamp: string (nullable = true)\n",
      " |-- event_id: string (nullable = true)\n",
      " |-- document_name: string (nullable = true)\n",
      " |-- operation: string (nullable = true)\n",
      " |-- document_id: string (nullable = true)\n",
      " |-- data: string (nullable = true)\n",
      " |-- id: string (nullable = true)\n",
      " |-- user_last_activity: integer (nullable = true)\n",
      " |-- user_signup_date: integer (nullable = true)\n",
      " |-- rating: float (nullable = true)\n",
      "\n"
     ]
    }
   ],
   "source": [
    "users.printSchema()"
   ]
  },
  {
   "cell_type": "code",
   "execution_count": 32,
   "id": "9a3e63d5-2a5a-4ca1-944c-0c11dd04bb3c",
   "metadata": {},
   "outputs": [
    {
     "name": "stdout",
     "output_type": "stream",
     "text": [
      "root\n",
      " |-- _c0: string (nullable = true)\n",
      " |-- timestamp: string (nullable = true)\n",
      " |-- event_id: string (nullable = true)\n",
      " |-- document_name: string (nullable = true)\n",
      " |-- operation: string (nullable = true)\n",
      " |-- document_id: string (nullable = true)\n",
      " |-- data: string (nullable = true)\n",
      " |-- amount: float (nullable = true)\n",
      " |-- creation_timestamp: integer (nullable = true)\n",
      " |-- customer_net_balance_after_transaction: float (nullable = true)\n",
      " |-- note: string (nullable = true)\n",
      " |-- transaction_timestamp: integer (nullable = true)\n",
      " |-- transaction_type: string (nullable = true)\n",
      " |-- type: string (nullable = true)\n",
      " |-- user_id: string (nullable = true)\n",
      "\n"
     ]
    }
   ],
   "source": [
    "transactions.printSchema()"
   ]
  },
  {
   "cell_type": "markdown",
   "id": "ef75d459-0157-40cf-8db9-c1dd2f7137ef",
   "metadata": {},
   "source": [
    "# Transform"
   ]
  },
  {
   "cell_type": "code",
   "execution_count": 33,
   "id": "0869f588-1053-4512-97b5-04aad25365c2",
   "metadata": {},
   "outputs": [
    {
     "data": {
      "text/plain": [
       "[Row(transaction_type=None),\n",
       " Row(transaction_type='credit'),\n",
       " Row(transaction_type='debit')]"
      ]
     },
     "execution_count": 33,
     "metadata": {},
     "output_type": "execute_result"
    }
   ],
   "source": [
    "transactions.select(\"transaction_type\").distinct().collect()"
   ]
  },
  {
   "cell_type": "code",
   "execution_count": 34,
   "id": "e6487116-df08-44e9-801d-0596b0e16051",
   "metadata": {},
   "outputs": [],
   "source": [
    "amount_of_debits = (\n",
    "    transactions.filter(transactions.transaction_type == \"debit\")\n",
    "    .groupby(\"user_id\")\n",
    "    .sum(\"amount\")\n",
    "    .withColumnRenamed(\"sum(amount)\", \"amount_of_debits\")\n",
    "    .cache()\n",
    ")"
   ]
  },
  {
   "cell_type": "code",
   "execution_count": 35,
   "id": "26a42570-6687-4e7f-855a-65f50f818bb2",
   "metadata": {},
   "outputs": [],
   "source": [
    "no_of_debits = (\n",
    "    transactions.filter(transactions.transaction_type == \"debit\")\n",
    "    .groupby(\"user_id\")\n",
    "    .count()\n",
    "    .withColumnRenamed(\"count\", \"no_of_debits\")\n",
    "    .cache()\n",
    ")"
   ]
  },
  {
   "cell_type": "code",
   "execution_count": 36,
   "id": "c30388bc-a356-4d58-aff8-22d1f75cada9",
   "metadata": {},
   "outputs": [],
   "source": [
    "amount_of_credits = (\n",
    "    transactions.filter(transactions.transaction_type == \"credit\")\n",
    "    .groupby(\"user_id\")\n",
    "    .sum(\"amount\")\n",
    "    .withColumnRenamed(\"sum(amount)\", \"amount_of_credits\")\n",
    "    .cache()\n",
    ")"
   ]
  },
  {
   "cell_type": "code",
   "execution_count": 37,
   "id": "489b4422-2638-47c4-985f-ae92aebe37bf",
   "metadata": {},
   "outputs": [],
   "source": [
    "no_of_credits = (\n",
    "    transactions.filter(transactions.transaction_type == \"debit\")\n",
    "    .groupby(\"user_id\")\n",
    "    .count()\n",
    "    .withColumnRenamed(\"count\", \"no_of_credits\")\n",
    "    .cache()\n",
    ")"
   ]
  },
  {
   "cell_type": "code",
   "execution_count": 38,
   "id": "dd8ac690-b279-4262-9c9c-e88d3b4ab02a",
   "metadata": {},
   "outputs": [],
   "source": [
    "amount_of_total_transactions = (\n",
    "    transactions.groupby(\"user_id\")\n",
    "    .sum(\"amount\")\n",
    "    .withColumnRenamed(\"sum(amount)\", \"amount_of_total_transactions\")\n",
    "    .cache()\n",
    ")"
   ]
  },
  {
   "cell_type": "code",
   "execution_count": 39,
   "id": "00f4aafd-7689-4bdd-afcb-ee7834f2b97f",
   "metadata": {},
   "outputs": [],
   "source": [
    "no_of_transactions = (\n",
    "    transactions.groupby(\"user_id\")\n",
    "    .count()\n",
    "    .withColumnRenamed(\"count\", \"no_of_transactions\")\n",
    "    .cache()\n",
    ")"
   ]
  },
  {
   "cell_type": "code",
   "execution_count": 40,
   "id": "50557bea-8789-4ac7-8233-de5c40cd0c34",
   "metadata": {},
   "outputs": [],
   "source": [
    "ratings = (\n",
    "    users.select(col(\"id\").alias(\"user_id\"), \"rating\")\n",
    "    .groupby(\"user_id\")\n",
    "    .avg(\"rating\")\n",
    "    .withColumnRenamed(\"avg(rating)\", \"rating\")\n",
    "    .cache()\n",
    ")"
   ]
  },
  {
   "cell_type": "code",
   "execution_count": 41,
   "id": "d79887eb-9144-44fc-a017-1ef6d6fb5004",
   "metadata": {},
   "outputs": [],
   "source": [
    "user_activity = (\n",
    "    users.select(col(\"id\").alias(\"user_id\"), \"user_last_activity\")\n",
    "    .groupby(\"user_id\")\n",
    "    .agg({\"user_last_activity\": \"max\"})\n",
    "    .withColumnRenamed(\"max(user_last_activity)\", \"user_last_activity\")\n",
    "    .cache()\n",
    ")"
   ]
  },
  {
   "cell_type": "code",
   "execution_count": 42,
   "id": "a4c8af16-9876-49b2-b7fd-10cb5c8e63b3",
   "metadata": {},
   "outputs": [],
   "source": [
    "user_activity = user_activity.withColumn(\n",
    "    \"days_since_last_activity\",\n",
    "    datediff(current_date(), col(\"user_last_activity\").cast(\"timestamp\")),\n",
    ")"
   ]
  },
  {
   "cell_type": "code",
   "execution_count": 43,
   "id": "f9e6d187-a1ac-4c1d-81f0-d791ce54b442",
   "metadata": {},
   "outputs": [],
   "source": [
    "user_activity = user_activity.withColumn(\n",
    "    \"created_at\", current_timestamp()\n",
    ").cache()"
   ]
  },
  {
   "cell_type": "code",
   "execution_count": 44,
   "id": "d1e9eb8c-69af-4469-818b-5432c7f5a572",
   "metadata": {},
   "outputs": [],
   "source": [
    "user_activity = user_activity.withColumn(\n",
    "    \"user_last_activity\", col(\"user_last_activity\").cast(\"timestamp\")\n",
    ").cache()"
   ]
  },
  {
   "cell_type": "code",
   "execution_count": 45,
   "id": "c02201c7-ffe7-4314-b973-bcd1085f84ea",
   "metadata": {},
   "outputs": [],
   "source": [
    "days_since_signup = users.groupby(\"id\").agg({\"user_signup_date\": \"first\"}).cache()\n",
    "days_since_signup = days_since_signup.withColumnRenamed(\n",
    "    \"id\", \"user_id\"\n",
    ").withColumnRenamed(\"first(user_signup_date)\", \"days_since_signup\")\n",
    "days_since_signup = days_since_signup.select(\n",
    "    \"user_id\",\n",
    "    (datediff(current_date(), col(\"days_since_signup\").cast(\"timestamp\"))).alias(\n",
    "        \"days_since_signup\"\n",
    "    ),\n",
    ").cache()"
   ]
  },
  {
   "cell_type": "code",
   "execution_count": 46,
   "id": "085e01ab-a235-4674-8c7f-cedf514c34ba",
   "metadata": {},
   "outputs": [],
   "source": [
    "user_info = analytics.groupby(\"user_id\").agg(\n",
    "    {\n",
    "        \"device_language\": \"first\",\n",
    "        \"city_geoIp\": \"first\",\n",
    "        \"app_version\": \"first\",\n",
    "        \"device_model\": \"first\",\n",
    "    }\n",
    ")\n",
    "user_info = user_info.withColumnRenamed(\n",
    "    \"first(app_version)\", \"app_version\"\n",
    ").withColumnRenamed(\"first(device_model)\", \"phone_model\")\n",
    "user_info = user_info.withColumnRenamed(\n",
    "    \"first(device_language)\", \"language\"\n",
    ").withColumnRenamed(\"first(city_geoIp)\", \"city\")"
   ]
  },
  {
   "cell_type": "code",
   "execution_count": 47,
   "id": "1b73658f-4ba4-4904-b48d-aaf6331cfe8b",
   "metadata": {},
   "outputs": [],
   "source": [
    "median_gmv_per_month = transactions.groupby(\"user_id\", funcs.month(\"timestamp\")).agg(\n",
    "    funcs.sum(\"amount\").alias(\"amount\")\n",
    ").groupby(\"user_id\").agg(\n",
    "    funcs.percentile_approx(\"amount\", 0.5).alias(\"calculated_fields.median_gmv_per_month\")\n",
    ").orderBy(\n",
    "    \"user_id\"\n",
    ")"
   ]
  },
  {
   "cell_type": "code",
   "execution_count": 48,
   "id": "ba93fb74-8edc-4364-8f95-d98aa7bf04fd",
   "metadata": {},
   "outputs": [],
   "source": [
    "median_trans_per_month = transactions.groupby(\"user_id\", funcs.month(\"timestamp\")).agg(\n",
    "    funcs.count(\"amount\").alias(\"amount\")\n",
    ").groupby(\"user_id\").agg(\n",
    "    funcs.percentile_approx(\"amount\", 0.5).alias(\"calculated_fields.median_trans_per_month\")\n",
    ").orderBy(\n",
    "    \"user_id\"\n",
    ")"
   ]
  },
  {
   "cell_type": "code",
   "execution_count": 49,
   "id": "66ac7be6-adfd-4cc5-8188-968699a656cb",
   "metadata": {},
   "outputs": [],
   "source": [
    "months_transacting = transactions.select(\"user_id\", funcs.month(\"timestamp\").alias(\"month_no\")).groupby(\n",
    "    \"user_id\"\n",
    ").agg(funcs.expr(\"count(distinct month_no)\").alias(\"calculated_fields.months_transacting\")).orderBy(\n",
    "    \"user_id\"\n",
    ")"
   ]
  },
  {
   "cell_type": "code",
   "execution_count": 52,
   "id": "179d3947-6090-44d1-8024-63beabe4e5c7",
   "metadata": {},
   "outputs": [],
   "source": [
    "final = (\n",
    "    amount_of_credits.join(no_of_credits, on=\"user_id\", how=\"left\")\n",
    "    .join(amount_of_debits, on=\"user_id\", how=\"left\")\n",
    "    .join(no_of_debits, on=\"user_id\", how=\"left\")\n",
    "    .join(amount_of_total_transactions, on=\"user_id\", how=\"left\")\n",
    "    .join(no_of_transactions, on=\"user_id\", how=\"left\")\n",
    "    .join(ratings, on=\"user_id\", how=\"left\")\n",
    "    .join(user_activity, on=\"user_id\", how=\"left\")\n",
    "    .join(days_since_signup, on=\"user_id\", how=\"left\")\n",
    "    .join(user_info, on=\"user_id\", how=\"left\")\n",
    "    .join(median_gmv_per_month, on=\"user_id\", how=\"left\")\n",
    "    .join(median_trans_per_month, on=\"user_id\", how=\"left\")\n",
    "    .join(months_transacting, on=\"user_id\", how=\"left\")\n",
    ")"
   ]
  },
  {
   "cell_type": "code",
   "execution_count": 53,
   "id": "645bd5f0-2ca8-4eda-9258-ed29eb6987f0",
   "metadata": {},
   "outputs": [],
   "source": [
    "# final = final.withColumn(\n",
    "#     \"calculated_fields\", funcs.struct(\n",
    "#         col(\"median_gmv_per_month\"),\n",
    "#         col(\"median_trans_per_month\"),\n",
    "#         col(\"months_transacting\")\n",
    "#     )\n",
    "# ).drop(\"median_gmv_per_month\", \"median_trans_per_month\", \"months_transacting\")"
   ]
  },
  {
   "cell_type": "code",
   "execution_count": 55,
   "id": "9da794c4-25b5-4762-9551-b99fc3c6af8a",
   "metadata": {},
   "outputs": [
    {
     "name": "stdout",
     "output_type": "stream",
     "text": [
      "+--------------------+--------------------+-------------+------------------+------------+----------------------------+------------------+-----------------+-------------------+------------------------+--------------------+-----------------+-----------+-----------------+--------+----------+--------------------------------------+----------------------------------------+------------------------------------+\n",
      "|             user_id|   amount_of_credits|no_of_credits|  amount_of_debits|no_of_debits|amount_of_total_transactions|no_of_transactions|           rating| user_last_activity|days_since_last_activity|          created_at|days_since_signup|app_version|      phone_model|language|      city|calculated_fields.median_gmv_per_month|calculated_fields.median_trans_per_month|calculated_fields.months_transacting|\n",
      "+--------------------+--------------------+-------------+------------------+------------+----------------------------+------------------+-----------------+-------------------+------------------------+--------------------+-----------------+-----------+-----------------+--------+----------+--------------------------------------+----------------------------------------+------------------------------------+\n",
      "|dcaf1888-4514-4c1...|         2.3433795E7|         7683|       2.3339095E7|        7683|                  4.677289E7|             13864|              5.0|2021-12-21 15:48:58|                     116|2022-04-16 16:35:...|              396|     2.14.0|     mobile Hot 9|   en-us|Rawalpindi|                             4660400.0|                                    1436|                                  10|\n",
      "|6521bdc4-26a0-4be...|       1.173685422E9|        14879|     1.453744892E8|       14879|        1.3190599111999998E9|             23485|              4.0|2021-12-17 15:14:13|                     120|2022-04-16 16:35:...|              331|     2.26.0|   mobile nova 3i|   en-pk|Rawalpindi|                           3.1016581E7|                                    3293|                                   8|\n",
      "|8fc029c3-2ec0-441...|            893673.0|         6844|         1068601.0|        6844|                   1962274.0|              8812|3.999709217795871|2021-12-21 17:24:23|                     116|2022-04-16 16:35:...|              453|     2.26.0|   mobile Spark 5|   en-us|    Multan|                              136074.0|                                     642|                                  12|\n",
      "|031e8f64-0e97-4f4...|           5556595.0|        11853|       1.1622256E7|       11853|                 1.7178851E7|             14037|              5.0|2021-12-21 20:54:20|                     116|2022-04-16 16:35:...|              293|     2.26.0|  mobile Y20 2021|   en-pk|    Lahore|                             1914660.0|                                    2257|                                   7|\n",
      "|81c995b0-7a19-47b...|   9312905.172000006|         5942|       1.0962711E7|        5942|        2.0275616172000006E7|              9303|              5.0|2021-12-22 00:26:42|                     115|2022-04-16 16:35:...|              350|     2.26.0|       mobile Y20|   en-us|    Lahore|                             2130987.0|                                    1149|                                   8|\n",
      "|ee1c2c31-b463-46b...|           4339171.0|        10521|         4209392.0|       10521|                   8548563.0|             17214|              5.0|2021-12-22 00:34:20|                     115|2022-04-16 16:35:...|              488|     2.26.0|       mobile A53|   en-us|Rawalpindi|                              633542.0|                                    1333|                                  12|\n",
      "|a50fc2e9-1454-475...|           3992527.0|        10613|         4652910.0|       10613|                   8645437.0|             12840|              4.0|2021-12-21 22:55:42|                     116|2022-04-16 16:35:...|              418|     2.26.0|mobile Galaxy A72|   en-gb|      null|                              701624.0|                                    1132|                                  11|\n",
      "|14f817d0-ef4f-484...|   868345.1000000015|         8976|         2690150.0|        8976|          3558495.1000000015|             11645|              4.0|2021-12-21 21:17:32|                     116|2022-04-16 16:35:...|              412|     2.26.0|mobile Spark 6 Go|   en-us|    Multan|                              128498.0|                                    1059|                                  11|\n",
      "|fe9c3105-f134-4cf...|           1700722.0|        21084| 1.927344897251E12|       21084|           1.927346597973E12|             27139|              4.0|2021-12-22 00:34:24|                     115|2022-04-16 16:35:...|              357|     2.19.7|    mobile Hot 10|   en-us|    Lahore|                              388998.0|                                    3353|                                   9|\n",
      "|f6fdcdd2-98f7-400...|  3909331.3999938965|         8425|4174580.8999996185|        8425|           8083912.299993515|             10208|              5.0|2021-12-21 21:59:46|                     116|2022-04-16 16:35:...|              382|     2.26.0|   mobile V15 Pro|   en-us|Rawalpindi|                              686632.0|                                    1038|                                  10|\n",
      "|ba5e4473-d825-44d...|1.2575062230000001E8|         6695|       1.2865939E8|        6695|               2.544100123E8|             17907|              4.0|2021-12-21 21:35:57|                     116|2022-04-16 16:35:...|             null|     2.26.0|      mobile Y12s|   en-pk|   Karachi|                           1.0337515E7|                                     854|                                  12|\n",
      "|cb98d081-a469-49a...|   4304859.607177734|        10970|3518930.3093719482|       10970|           7823789.916549683|             15801|              5.0|2021-12-20 23:02:44|                     117|2022-04-16 16:35:...|              335|     2.26.0|        mobile S1|   en-us|    Multan|                             1094172.0|                                    2227|                                   8|\n",
      "|6ab12451-393e-401...|          8994238.25|        13764| 8945136.612000465|       13764|        1.7939374862000465E7|             17463|              4.0|2021-12-22 00:00:15|                     115|2022-04-16 16:35:...|              494|     2.26.0|    mobile F9 Pro|   en-us|   Karachi|                             1269776.0|                                    1384|                                  12|\n",
      "|e30ee11c-9d67-4de...|           1671648.0|         8254|         1402988.0|        8254|                   3074636.0|              9292|4.999892680832796|2021-12-21 23:24:55|                     116|2022-04-16 16:35:...|              326|     2.25.0|       mobile A3s|   en-us|Faisalabad|                              259253.0|                                    1247|                                   8|\n",
      "|fb06050f-3a70-468...|            645470.0|         6623|      7.32868357E8|        6623|                7.33513827E8|              7758|              4.0|2021-12-21 23:17:59|                     116|2022-04-16 16:35:...|              276|     2.22.0|mobile Y11 (2019)|   en-us|Rawalpindi|                              284368.0|                                    1249|                                   6|\n",
      "|a183f262-1f2a-4a2...|           2179610.0|         7994|         2202624.0|        7994|                   4382234.0|              8868|              5.0|2021-12-21 19:50:55|                     116|2022-04-16 16:35:...|              324|     2.26.0|mobile Hot 9 Play|   en-us|   Karachi|                              531642.0|                                    1128|                                   8|\n",
      "|f7525e56-be3f-411...|         1.0604923E7|         5412|       1.0469376E7|        5412|                 2.1074299E7|             10414|              4.0|2021-12-21 16:50:42|                     116|2022-04-16 16:35:...|              326|     2.26.0|mobile Galaxy A31|   en-gb|   Karachi|                             2864771.0|                                    1417|                                   8|\n",
      "|ebcd5d00-ff06-49e...|         8.0038511E7|         4119|       8.5591513E7|        4119|                1.65630024E8|              7857|3.951929587000677|2021-12-20 20:01:57|                     117|2022-04-16 16:35:...|              419|     2.26.0|       mobile F15|   en-us|    Lahore|                            1.352264E7|                                     808|                                  11|\n",
      "|fb35a836-759c-4a6...|          3746901.51|         5038|        3831840.76|        5038|                  7578742.27|              8070|              5.0|2021-12-20 11:32:45|                     117|2022-04-16 16:35:...|              340|     2.25.0|             null|   en-us|   Karachi|                              903976.5|                                    1117|                                   8|\n",
      "|cfbf6682-7377-4f4...|           3646821.0|         6975|3639835.9166870117|        6975|           7286656.916687012|              8907|              5.0|2021-12-21 18:01:54|                     116|2022-04-16 16:35:...|              362|     2.26.0| mobile Galaxy J6|   en-gb| Islamabad|                     393249.0400085449|                                     818|                                   9|\n",
      "+--------------------+--------------------+-------------+------------------+------------+----------------------------+------------------+-----------------+-------------------+------------------------+--------------------+-----------------+-----------+-----------------+--------+----------+--------------------------------------+----------------------------------------+------------------------------------+\n",
      "only showing top 20 rows\n",
      "\n"
     ]
    }
   ],
   "source": [
    "final.cache().show()"
   ]
  },
  {
   "cell_type": "markdown",
   "id": "0cbd47b5-28b8-4d47-9184-e84fde36bef2",
   "metadata": {},
   "source": [
    "# Load"
   ]
  },
  {
   "cell_type": "code",
   "execution_count": 56,
   "id": "f2842daf-f669-4cde-ae85-539bba54a33f",
   "metadata": {},
   "outputs": [],
   "source": [
    "def save_to_postgres(df, table):\n",
    "    df.write.format(\"jdbc\").option(\n",
    "        \"url\", \"jdbc:postgresql://localhost:5432/test\"\n",
    "    ).option(\"dbtable\", table).option(\"user\", \"mamun\").option(\n",
    "        \"password\", \"mamun1234\"\n",
    "    ).mode(\n",
    "        \"overwrite\"\n",
    "    ).save()"
   ]
  },
  {
   "cell_type": "code",
   "execution_count": 57,
   "id": "2480f8f9-3b17-4d20-8e58-ed642871e9dc",
   "metadata": {},
   "outputs": [],
   "source": [
    "save_to_postgres(final, \"final\")"
   ]
  },
  {
   "cell_type": "code",
   "execution_count": 58,
   "id": "4990638e-4a9d-459f-b258-740c243234c6",
   "metadata": {},
   "outputs": [],
   "source": [
    "transactions.createOrReplaceTempView(\"transactions\")\n",
    "\n",
    "save_to_postgres(transactions, \"transactions\")\n",
    "\n",
    "# save_to_postgres(users, \"users\")\n",
    "\n",
    "# save_to_postgres(analytics, \"analytics\")\n",
    "\n",
    "# transactions.show()"
   ]
  },
  {
   "cell_type": "markdown",
   "id": "e96b2754-ed1d-4af3-bcf3-c7868bbd8914",
   "metadata": {},
   "source": [
    "# Test RAW"
   ]
  }
 ],
 "metadata": {
  "kernelspec": {
   "display_name": "Python 3",
   "language": "python",
   "name": "python3"
  },
  "language_info": {
   "codemirror_mode": {
    "name": "ipython",
    "version": 3
   },
   "file_extension": ".py",
   "mimetype": "text/x-python",
   "name": "python",
   "nbconvert_exporter": "python",
   "pygments_lexer": "ipython3",
   "version": "3.9.12"
  }
 },
 "nbformat": 4,
 "nbformat_minor": 5
}
