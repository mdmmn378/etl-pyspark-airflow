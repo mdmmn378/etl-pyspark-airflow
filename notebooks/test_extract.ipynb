{
 "cells": [
  {
   "cell_type": "markdown",
   "id": "08e089c3-9228-45e0-b0b1-209a73825004",
   "metadata": {},
   "source": [
    "# Load Modules"
   ]
  },
  {
   "cell_type": "code",
   "execution_count": 1,
   "id": "0c9ba46e-ecc0-4dba-b098-1fd07d70987a",
   "metadata": {},
   "outputs": [],
   "source": [
    "import os\n",
    "os.chdir(\"../\")"
   ]
  },
  {
   "cell_type": "code",
   "execution_count": 2,
   "id": "f4d2c802-c2a4-487b-a4dc-e623ed4122d7",
   "metadata": {},
   "outputs": [],
   "source": [
    "from pyspark.sql import SparkSession\n",
    "import pandas as pd\n",
    "import json\n",
    "from functools import partial"
   ]
  },
  {
   "cell_type": "code",
   "execution_count": 3,
   "id": "2b3d8ea3-7ee6-4a82-9dde-a6966fa7d3ec",
   "metadata": {},
   "outputs": [],
   "source": [
    "from pyspark.sql.functions import udf, lit, col"
   ]
  },
  {
   "cell_type": "code",
   "execution_count": 4,
   "id": "e8098806-74d4-4e5e-86e4-1b8dd5c891e9",
   "metadata": {},
   "outputs": [],
   "source": [
    "# spark_session = SparkSession.builder.appName(\"Test\").getOrCreate()\n",
    "# spark_session = (\n",
    "#     SparkSession.builder.appName(\"Python Spark SQL Hive integration example\")\n",
    "#     .config(\"spark.executor.cores\", 8)\n",
    "#     .config(\"spark.task.cpus\", 8)\n",
    "#     .config(\"spark.cores.max\", 24)\n",
    "#     .config(\"spark.driver.extraClassPath\", \"../jars/postgresql-42.3.3.jar\")\n",
    "#     .getOrCreate()\n",
    "# )\n",
    "# spark_session = (\n",
    "#     SparkSession.builder.appName(\"Python Spark SQL Hive integration example\")\n",
    "#     .config(\"spark.executor.cores\", 16)\n",
    "#     .config(\"spark.task.cpus\", 2)\n",
    "#     .config(\"spark.cores.max\", 24)\n",
    "#     .config(\"spark.executor.memory\", \"8g\")\n",
    "#     .config(\"spark.executor.instance\", 16)\n",
    "#     .config(\"spark.driver.memory\", \"8g\")\n",
    "#     # .config(\"spark.driver.extraClassPath\", \"../jars/postgresql-42.3.3.jar\")\n",
    "#     .getOrCreate()\n",
    "# )\n",
    "spark_session = (\n",
    "    SparkSession.builder.appName(\"Python Spark SQL Hive integration example\")\n",
    "    .config(\"spark.executor.memory\", \"8g\")\n",
    "    .config(\"spark.executor.instance\", 4)\n",
    "    .config(\"spark.driver.memory\", \"8g\")\n",
    "    .getOrCreate()\n",
    ")\n"
   ]
  },
  {
   "cell_type": "code",
   "execution_count": 5,
   "id": "5b1c72d5-bb09-4e5b-bdde-01786800b464",
   "metadata": {},
   "outputs": [],
   "source": [
    "import tempfile\n",
    "import pathlib"
   ]
  },
  {
   "cell_type": "code",
   "execution_count": 6,
   "id": "5825bdb6-2e57-4bad-a7a0-acbcef1a4549",
   "metadata": {},
   "outputs": [],
   "source": [
    "if not os.path.exists(\"./tmp\"):\n",
    "    os.makedirs(\"./tmp\")\n",
    "\n",
    "tempfile.tempdir = \"./tmp/\"\n",
    "dump_dir = tempfile.TemporaryDirectory()\n",
    "    \n"
   ]
  },
  {
   "cell_type": "code",
   "execution_count": 7,
   "id": "53cbe267-c700-48bf-81d4-a0a985abcd07",
   "metadata": {},
   "outputs": [],
   "source": [
    "# dump_dir = pathlib.Path(\"./tmp\")"
   ]
  },
  {
   "cell_type": "markdown",
   "id": "2e264385-1ce9-450b-b61e-16c5b6224b30",
   "metadata": {
    "tags": []
   },
   "source": [
    "### Make Utils"
   ]
  },
  {
   "cell_type": "code",
   "execution_count": 8,
   "id": "eeb76f74-fddc-47c4-b47f-e05e86cab13e",
   "metadata": {},
   "outputs": [],
   "source": [
    "from utils.json_utils import parse_json\n",
    "from schemas.users import USERS_FIELD_DATA_SCHEMA\n",
    "from schemas.transactions import TRANSACTIONS_FIELD_DATA_SCHEMA"
   ]
  },
  {
   "cell_type": "code",
   "execution_count": 9,
   "id": "e3f2f0de-0bef-4698-931c-5dcf2f01c023",
   "metadata": {},
   "outputs": [],
   "source": [
    "from utils.health import measure_time"
   ]
  },
  {
   "cell_type": "code",
   "execution_count": 21,
   "id": "eea03307-414d-4b6f-9caf-1bbfbded55ab",
   "metadata": {},
   "outputs": [],
   "source": [
    "# def expand_fields(x, schema):\n",
    "#     data = json.loads(x[\"data\"])\n",
    "#     data = parse_json(data, schema)\n",
    "#     for i in schema:\n",
    "#         x[i] = data[i]\n",
    "#     return x"
   ]
  },
  {
   "cell_type": "code",
   "execution_count": 30,
   "id": "cecd8631-6078-4504-b8f5-49db47754ce8",
   "metadata": {},
   "outputs": [],
   "source": [
    "def expand_fields(x, schema=None):\n",
    "    data = json.loads(x)\n",
    "    data = parse_json(data, schema)\n",
    "    return data"
   ]
  },
  {
   "cell_type": "code",
   "execution_count": 31,
   "id": "040f4042-b6cd-4ad5-84e3-4b73681b30c4",
   "metadata": {},
   "outputs": [],
   "source": [
    "users_data_field = partial(expand_fields, schema=USERS_FIELD_DATA_SCHEMA)\n",
    "transactions_data_field = partial(expand_fields, schema=TRANSACTIONS_FIELD_DATA_SCHEMA)"
   ]
  },
  {
   "cell_type": "markdown",
   "id": "6ad49e7a-e1ca-4ac8-8352-24c5927e4332",
   "metadata": {},
   "source": [
    "# Extract"
   ]
  },
  {
   "cell_type": "code",
   "execution_count": 12,
   "id": "281990b0-d60c-4597-8c60-238d8bb1ec24",
   "metadata": {},
   "outputs": [],
   "source": [
    "analytics = spark_session.read.csv(\"datasets/analytics.csv\", quote=\"\\\"\", escape=\"\\\"\", header=True)"
   ]
  },
  {
   "cell_type": "code",
   "execution_count": 13,
   "id": "ec0be945-559b-4025-8395-1339e470da38",
   "metadata": {},
   "outputs": [],
   "source": [
    "transactions = spark_session.read.csv(\"datasets/transactions.csv\", quote=\"\\\"\", escape=\"\\\"\", header=True)"
   ]
  },
  {
   "cell_type": "code",
   "execution_count": 14,
   "id": "8192f2be-58b5-4167-93a8-882555b0cf1e",
   "metadata": {},
   "outputs": [],
   "source": [
    "users = spark_session.read.csv(\"datasets/users.csv\", quote=\"\\\"\", escape=\"\\\"\", header=True)"
   ]
  },
  {
   "cell_type": "code",
   "execution_count": 15,
   "id": "41b85860-dd09-488d-accf-46cae77baa64",
   "metadata": {},
   "outputs": [
    {
     "data": {
      "text/plain": [
       "50"
      ]
     },
     "execution_count": 15,
     "metadata": {},
     "output_type": "execute_result"
    }
   ],
   "source": [
    "users.select(\"document_id\").distinct().count()"
   ]
  },
  {
   "cell_type": "code",
   "execution_count": 16,
   "id": "63566942-3027-48ad-93a4-2aa7ba31fedc",
   "metadata": {},
   "outputs": [
    {
     "data": {
      "text/plain": [
       "[Row(document_name='projects/hisaab-7e8b4/databases/(default)/documents/_users/DrcOaVjp8FWTic6okQAYx2quxrU2'),\n",
       " Row(document_name='projects/hisaab-7e8b4/databases/(default)/documents/_users/DrcOaVjp8FWTic6okQAYx2quxrU2'),\n",
       " Row(document_name='projects/hisaab-7e8b4/databases/(default)/documents/_users/DrcOaVjp8FWTic6okQAYx2quxrU2'),\n",
       " Row(document_name='projects/hisaab-7e8b4/databases/(default)/documents/_users/DrcOaVjp8FWTic6okQAYx2quxrU2'),\n",
       " Row(document_name='projects/hisaab-7e8b4/databases/(default)/documents/_users/DrcOaVjp8FWTic6okQAYx2quxrU2'),\n",
       " Row(document_name='projects/hisaab-7e8b4/databases/(default)/documents/_users/DrcOaVjp8FWTic6okQAYx2quxrU2'),\n",
       " Row(document_name='projects/hisaab-7e8b4/databases/(default)/documents/_users/DrcOaVjp8FWTic6okQAYx2quxrU2'),\n",
       " Row(document_name='projects/hisaab-7e8b4/databases/(default)/documents/_users/DrcOaVjp8FWTic6okQAYx2quxrU2'),\n",
       " Row(document_name='projects/hisaab-7e8b4/databases/(default)/documents/_users/DrcOaVjp8FWTic6okQAYx2quxrU2'),\n",
       " Row(document_name='projects/hisaab-7e8b4/databases/(default)/documents/_users/DrcOaVjp8FWTic6okQAYx2quxrU2')]"
      ]
     },
     "execution_count": 16,
     "metadata": {},
     "output_type": "execute_result"
    }
   ],
   "source": [
    "users.select(\"document_name\").collect()[:10]"
   ]
  },
  {
   "cell_type": "code",
   "execution_count": 72,
   "id": "46b9c9bf-15bc-45c2-9d6a-38e07cdf11b5",
   "metadata": {},
   "outputs": [],
   "source": [
    "def increase_val(x):\n",
    "    x = json.loads(x)\n",
    "    return x\n",
    "    return x.get(\"business_card\"), x.get(\"business_card\")"
   ]
  },
  {
   "cell_type": "code",
   "execution_count": 32,
   "id": "68fc0b9f-eb12-4c2c-9d78-255a311e3850",
   "metadata": {},
   "outputs": [
    {
     "name": "stdout",
     "output_type": "stream",
     "text": [
      "+---+--------------------+--------------------+--------------------+---------+--------------------+--------------------+--------------------+\n",
      "|_c0|           timestamp|            event_id|       document_name|operation|         document_id|                data|                 new|\n",
      "+---+--------------------+--------------------+--------------------+---------+--------------------+--------------------+--------------------+\n",
      "|  0|2021-10-01 01:21:...|cf0f4246-66b7-4fd...|projects/hisaab-7...|   UPDATE|DrcOaVjp8FWTic6ok...|{\"business_card\":...|{rating=4, user_l...|\n",
      "|  1|2021-08-13 15:21:...|2ccb8df6-fe72-4bc...|projects/hisaab-7...|   UPDATE|DrcOaVjp8FWTic6ok...|{\"business_card\":...|{rating=4, user_l...|\n",
      "|  2|2021-07-03 15:38:...|4c4cdb6e-aee8-46a...|projects/hisaab-7...|   UPDATE|DrcOaVjp8FWTic6ok...|{\"business_card\":...|{rating=4, user_l...|\n",
      "|  3|2020-12-13 06:45:...|79ed83bd-e2f6-412...|projects/hisaab-7...|   UPDATE|DrcOaVjp8FWTic6ok...|{\"business_name\":...|{rating=null, use...|\n",
      "|  4|2021-08-11 17:38:...|c53137da-9c78-483...|projects/hisaab-7...|   UPDATE|DrcOaVjp8FWTic6ok...|{\"business_card\":...|{rating=4, user_l...|\n",
      "|  5|2020-11-30 15:42:...|bfd0394b-a29a-4ce...|projects/hisaab-7...|   UPDATE|DrcOaVjp8FWTic6ok...|{\"business_name\":...|{rating=null, use...|\n",
      "|  6|2021-01-19 17:13:...|56011999-bebc-404...|projects/hisaab-7...|   UPDATE|DrcOaVjp8FWTic6ok...|{\"business_card\":...|{rating=null, use...|\n",
      "|  7|2021-05-02 14:59:...|942b45d6-7222-447...|projects/hisaab-7...|   UPDATE|DrcOaVjp8FWTic6ok...|{\"business_card\":...|{rating=4, user_l...|\n",
      "|  8|2021-05-23 04:03:...|1bb586d0-3cea-4e0...|projects/hisaab-7...|   UPDATE|DrcOaVjp8FWTic6ok...|{\"business_card\":...|{rating=4, user_l...|\n",
      "|  9|2021-08-21 01:22:...|41fc3eca-ed6c-4a1...|projects/hisaab-7...|   UPDATE|DrcOaVjp8FWTic6ok...|{\"business_card\":...|{rating=4, user_l...|\n",
      "| 10|2021-03-04 17:35:...|f1a55e27-a1cc-478...|projects/hisaab-7...|   UPDATE|DrcOaVjp8FWTic6ok...|{\"business_card\":...|{rating=4, user_l...|\n",
      "| 11|2021-03-27 01:25:...|850d114e-8c8e-440...|projects/hisaab-7...|   UPDATE|DrcOaVjp8FWTic6ok...|{\"business_card\":...|{rating=4, user_l...|\n",
      "| 12|2021-04-18 06:31:...|94f6a73a-9b4c-478...|projects/hisaab-7...|   UPDATE|DrcOaVjp8FWTic6ok...|{\"business_card\":...|{rating=4, user_l...|\n",
      "| 13|2021-02-06 02:50:...|81b7bf24-e83a-412...|projects/hisaab-7...|   UPDATE|DrcOaVjp8FWTic6ok...|{\"business_card\":...|{rating=4, user_l...|\n",
      "| 14|2021-06-30 17:35:...|61ddf7be-51f4-4cd...|projects/hisaab-7...|   UPDATE|DrcOaVjp8FWTic6ok...|{\"business_card\":...|{rating=4, user_l...|\n",
      "| 15|2021-04-03 05:40:...|9bde0e64-646c-4c6...|projects/hisaab-7...|   UPDATE|DrcOaVjp8FWTic6ok...|{\"business_card\":...|{rating=4, user_l...|\n",
      "| 16|2021-11-05 16:56:...|148ad8d9-85ff-44b...|projects/hisaab-7...|   UPDATE|DrcOaVjp8FWTic6ok...|{\"business_card\":...|{rating=4, user_l...|\n",
      "| 17|2021-11-06 16:59:...|d75d2997-53b5-416...|projects/hisaab-7...|   UPDATE|DrcOaVjp8FWTic6ok...|{\"business_card\":...|{rating=4, user_l...|\n",
      "| 18|2021-06-30 06:58:...|701780c7-6194-4bf...|projects/hisaab-7...|   UPDATE|DrcOaVjp8FWTic6ok...|{\"business_card\":...|{rating=4, user_l...|\n",
      "| 19|2021-09-17 02:32:...|088b3afe-20c7-4d9...|projects/hisaab-7...|   UPDATE|DrcOaVjp8FWTic6ok...|{\"business_card\":...|{rating=4, user_l...|\n",
      "+---+--------------------+--------------------+--------------------+---------+--------------------+--------------------+--------------------+\n",
      "only showing top 20 rows\n",
      "\n"
     ]
    }
   ],
   "source": [
    "users.withColumn(\"new\", udf(users_data_field)(col(\"data\"))).show()"
   ]
  },
  {
   "cell_type": "code",
   "execution_count": 33,
   "id": "de8c6388-02cf-406f-a6c6-269f62eb469a",
   "metadata": {},
   "outputs": [],
   "source": [
    "# reduce(lambda x, y: x.withColumn(y, lit(.4)), [users, \"a\", \"b\", \"c\"]).show()"
   ]
  },
  {
   "cell_type": "code",
   "execution_count": 22,
   "id": "1ca848a1-4420-4611-bcd4-6cd699bb3c97",
   "metadata": {},
   "outputs": [],
   "source": [
    "# users = users.to_pandas_on_spark()\n",
    "\n",
    "# analytics = analytics.to_pandas_on_spark()\n",
    "\n",
    "# transactions = transactions.to_pandas_on_spark()"
   ]
  },
  {
   "cell_type": "markdown",
   "id": "89098648-5346-486b-b50e-c27ec3296636",
   "metadata": {},
   "source": [
    "### Apply transformation"
   ]
  },
  {
   "cell_type": "code",
   "execution_count": 19,
   "id": "f8ee060b-edb0-4221-8913-2b4ad0c5d3cf",
   "metadata": {},
   "outputs": [],
   "source": [
    "users = users.apply(users_data_field, axis=1).drop(columns=[\"data\"])"
   ]
  },
  {
   "cell_type": "code",
   "execution_count": 20,
   "id": "9dba39b2-e864-49c1-8604-db767f045595",
   "metadata": {
    "tags": []
   },
   "outputs": [],
   "source": [
    "transactions = transactions.apply(transactions_data_field, axis=1).drop(columns=[\"data\"])"
   ]
  },
  {
   "cell_type": "code",
   "execution_count": 21,
   "id": "253f7f6d-8e1e-438e-a12e-5a78a6351a42",
   "metadata": {},
   "outputs": [],
   "source": [
    "users = users.to_spark()"
   ]
  },
  {
   "cell_type": "code",
   "execution_count": 22,
   "id": "3735c83a-0e0e-4cfe-aa38-f27614a4ad21",
   "metadata": {},
   "outputs": [
    {
     "name": "stderr",
     "output_type": "stream",
     "text": [
      "ERROR:root:KeyboardInterrupt while sending command.\n",
      "Traceback (most recent call last):\n",
      "  File \"/home/mamun/miniconda3/envs/cbook/lib/python3.9/site-packages/py4j/java_gateway.py\", line 1038, in send_command\n",
      "    response = connection.send_command(command)\n",
      "  File \"/home/mamun/miniconda3/envs/cbook/lib/python3.9/site-packages/py4j/clientserver.py\", line 475, in send_command\n",
      "    answer = smart_decode(self.stream.readline()[:-1])\n",
      "  File \"/home/mamun/miniconda3/envs/cbook/lib/python3.9/socket.py\", line 704, in readinto\n",
      "    return self._sock.recv_into(b)\n",
      "KeyboardInterrupt\n"
     ]
    },
    {
     "ename": "KeyboardInterrupt",
     "evalue": "",
     "output_type": "error",
     "traceback": [
      "\u001b[0;31m---------------------------------------------------------------------------\u001b[0m",
      "\u001b[0;31mKeyboardInterrupt\u001b[0m                         Traceback (most recent call last)",
      "Input \u001b[0;32mIn [22]\u001b[0m, in \u001b[0;36m<cell line: 1>\u001b[0;34m()\u001b[0m\n\u001b[0;32m----> 1\u001b[0m \u001b[43musers\u001b[49m\u001b[38;5;241;43m.\u001b[39;49m\u001b[43mselect\u001b[49m\u001b[43m(\u001b[49m\u001b[38;5;124;43m\"\u001b[39;49m\u001b[38;5;124;43mdocument_id\u001b[39;49m\u001b[38;5;124;43m\"\u001b[39;49m\u001b[43m)\u001b[49m\u001b[38;5;241;43m.\u001b[39;49m\u001b[43mwrite\u001b[49m\u001b[38;5;241;43m.\u001b[39;49m\u001b[43mformat\u001b[49m\u001b[43m(\u001b[49m\u001b[38;5;124;43m\"\u001b[39;49m\u001b[38;5;124;43mparquet\u001b[39;49m\u001b[38;5;124;43m\"\u001b[39;49m\u001b[43m)\u001b[49m\u001b[38;5;241;43m.\u001b[39;49m\u001b[43msave\u001b[49m\u001b[43m(\u001b[49m\u001b[43mdump_dir\u001b[49m\u001b[38;5;241;43m.\u001b[39;49m\u001b[43mname\u001b[49m\u001b[43m  \u001b[49m\u001b[38;5;241;43m+\u001b[39;49m\u001b[43m \u001b[49m\u001b[38;5;124;43m\"\u001b[39;49m\u001b[38;5;124;43musers133\u001b[39;49m\u001b[38;5;124;43m\"\u001b[39;49m\u001b[43m)\u001b[49m\n",
      "File \u001b[0;32m~/miniconda3/envs/cbook/lib/python3.9/site-packages/pyspark/sql/readwriter.py:740\u001b[0m, in \u001b[0;36mDataFrameWriter.save\u001b[0;34m(self, path, format, mode, partitionBy, **options)\u001b[0m\n\u001b[1;32m    738\u001b[0m     \u001b[38;5;28mself\u001b[39m\u001b[38;5;241m.\u001b[39m_jwrite\u001b[38;5;241m.\u001b[39msave()\n\u001b[1;32m    739\u001b[0m \u001b[38;5;28;01melse\u001b[39;00m:\n\u001b[0;32m--> 740\u001b[0m     \u001b[38;5;28;43mself\u001b[39;49m\u001b[38;5;241;43m.\u001b[39;49m\u001b[43m_jwrite\u001b[49m\u001b[38;5;241;43m.\u001b[39;49m\u001b[43msave\u001b[49m\u001b[43m(\u001b[49m\u001b[43mpath\u001b[49m\u001b[43m)\u001b[49m\n",
      "File \u001b[0;32m~/miniconda3/envs/cbook/lib/python3.9/site-packages/py4j/java_gateway.py:1320\u001b[0m, in \u001b[0;36mJavaMember.__call__\u001b[0;34m(self, *args)\u001b[0m\n\u001b[1;32m   1313\u001b[0m args_command, temp_args \u001b[38;5;241m=\u001b[39m \u001b[38;5;28mself\u001b[39m\u001b[38;5;241m.\u001b[39m_build_args(\u001b[38;5;241m*\u001b[39margs)\n\u001b[1;32m   1315\u001b[0m command \u001b[38;5;241m=\u001b[39m proto\u001b[38;5;241m.\u001b[39mCALL_COMMAND_NAME \u001b[38;5;241m+\u001b[39m\\\n\u001b[1;32m   1316\u001b[0m     \u001b[38;5;28mself\u001b[39m\u001b[38;5;241m.\u001b[39mcommand_header \u001b[38;5;241m+\u001b[39m\\\n\u001b[1;32m   1317\u001b[0m     args_command \u001b[38;5;241m+\u001b[39m\\\n\u001b[1;32m   1318\u001b[0m     proto\u001b[38;5;241m.\u001b[39mEND_COMMAND_PART\n\u001b[0;32m-> 1320\u001b[0m answer \u001b[38;5;241m=\u001b[39m \u001b[38;5;28;43mself\u001b[39;49m\u001b[38;5;241;43m.\u001b[39;49m\u001b[43mgateway_client\u001b[49m\u001b[38;5;241;43m.\u001b[39;49m\u001b[43msend_command\u001b[49m\u001b[43m(\u001b[49m\u001b[43mcommand\u001b[49m\u001b[43m)\u001b[49m\n\u001b[1;32m   1321\u001b[0m return_value \u001b[38;5;241m=\u001b[39m get_return_value(\n\u001b[1;32m   1322\u001b[0m     answer, \u001b[38;5;28mself\u001b[39m\u001b[38;5;241m.\u001b[39mgateway_client, \u001b[38;5;28mself\u001b[39m\u001b[38;5;241m.\u001b[39mtarget_id, \u001b[38;5;28mself\u001b[39m\u001b[38;5;241m.\u001b[39mname)\n\u001b[1;32m   1324\u001b[0m \u001b[38;5;28;01mfor\u001b[39;00m temp_arg \u001b[38;5;129;01min\u001b[39;00m temp_args:\n",
      "File \u001b[0;32m~/miniconda3/envs/cbook/lib/python3.9/site-packages/py4j/java_gateway.py:1038\u001b[0m, in \u001b[0;36mGatewayClient.send_command\u001b[0;34m(self, command, retry, binary)\u001b[0m\n\u001b[1;32m   1036\u001b[0m connection \u001b[38;5;241m=\u001b[39m \u001b[38;5;28mself\u001b[39m\u001b[38;5;241m.\u001b[39m_get_connection()\n\u001b[1;32m   1037\u001b[0m \u001b[38;5;28;01mtry\u001b[39;00m:\n\u001b[0;32m-> 1038\u001b[0m     response \u001b[38;5;241m=\u001b[39m \u001b[43mconnection\u001b[49m\u001b[38;5;241;43m.\u001b[39;49m\u001b[43msend_command\u001b[49m\u001b[43m(\u001b[49m\u001b[43mcommand\u001b[49m\u001b[43m)\u001b[49m\n\u001b[1;32m   1039\u001b[0m     \u001b[38;5;28;01mif\u001b[39;00m binary:\n\u001b[1;32m   1040\u001b[0m         \u001b[38;5;28;01mreturn\u001b[39;00m response, \u001b[38;5;28mself\u001b[39m\u001b[38;5;241m.\u001b[39m_create_connection_guard(connection)\n",
      "File \u001b[0;32m~/miniconda3/envs/cbook/lib/python3.9/site-packages/py4j/clientserver.py:475\u001b[0m, in \u001b[0;36mClientServerConnection.send_command\u001b[0;34m(self, command)\u001b[0m\n\u001b[1;32m    473\u001b[0m \u001b[38;5;28;01mtry\u001b[39;00m:\n\u001b[1;32m    474\u001b[0m     \u001b[38;5;28;01mwhile\u001b[39;00m \u001b[38;5;28;01mTrue\u001b[39;00m:\n\u001b[0;32m--> 475\u001b[0m         answer \u001b[38;5;241m=\u001b[39m smart_decode(\u001b[38;5;28;43mself\u001b[39;49m\u001b[38;5;241;43m.\u001b[39;49m\u001b[43mstream\u001b[49m\u001b[38;5;241;43m.\u001b[39;49m\u001b[43mreadline\u001b[49m\u001b[43m(\u001b[49m\u001b[43m)\u001b[49m[:\u001b[38;5;241m-\u001b[39m\u001b[38;5;241m1\u001b[39m])\n\u001b[1;32m    476\u001b[0m         logger\u001b[38;5;241m.\u001b[39mdebug(\u001b[38;5;124m\"\u001b[39m\u001b[38;5;124mAnswer received: \u001b[39m\u001b[38;5;132;01m{0}\u001b[39;00m\u001b[38;5;124m\"\u001b[39m\u001b[38;5;241m.\u001b[39mformat(answer))\n\u001b[1;32m    477\u001b[0m         \u001b[38;5;66;03m# Happens when a the other end is dead. There might be an empty\u001b[39;00m\n\u001b[1;32m    478\u001b[0m         \u001b[38;5;66;03m# answer before the socket raises an error.\u001b[39;00m\n",
      "File \u001b[0;32m~/miniconda3/envs/cbook/lib/python3.9/socket.py:704\u001b[0m, in \u001b[0;36mSocketIO.readinto\u001b[0;34m(self, b)\u001b[0m\n\u001b[1;32m    702\u001b[0m \u001b[38;5;28;01mwhile\u001b[39;00m \u001b[38;5;28;01mTrue\u001b[39;00m:\n\u001b[1;32m    703\u001b[0m     \u001b[38;5;28;01mtry\u001b[39;00m:\n\u001b[0;32m--> 704\u001b[0m         \u001b[38;5;28;01mreturn\u001b[39;00m \u001b[38;5;28;43mself\u001b[39;49m\u001b[38;5;241;43m.\u001b[39;49m\u001b[43m_sock\u001b[49m\u001b[38;5;241;43m.\u001b[39;49m\u001b[43mrecv_into\u001b[49m\u001b[43m(\u001b[49m\u001b[43mb\u001b[49m\u001b[43m)\u001b[49m\n\u001b[1;32m    705\u001b[0m     \u001b[38;5;28;01mexcept\u001b[39;00m timeout:\n\u001b[1;32m    706\u001b[0m         \u001b[38;5;28mself\u001b[39m\u001b[38;5;241m.\u001b[39m_timeout_occurred \u001b[38;5;241m=\u001b[39m \u001b[38;5;28;01mTrue\u001b[39;00m\n",
      "\u001b[0;31mKeyboardInterrupt\u001b[0m: "
     ]
    }
   ],
   "source": [
    "users.select(\"document_id\").write.format(\"parquet\").save(dump_dir.name  + \"users133\")"
   ]
  },
  {
   "cell_type": "code",
   "execution_count": null,
   "id": "d01e234f-7766-4e55-a022-c91438603109",
   "metadata": {},
   "outputs": [],
   "source": [
    "users.collect()"
   ]
  },
  {
   "cell_type": "markdown",
   "id": "b98e79ec-8e0c-488d-b326-0f7bf1a70bf5",
   "metadata": {},
   "source": [
    "# Transform"
   ]
  },
  {
   "cell_type": "code",
   "execution_count": null,
   "id": "cb11086b-371f-478e-8c1d-7985028cf122",
   "metadata": {},
   "outputs": [],
   "source": [
    "users.head()"
   ]
  },
  {
   "cell_type": "code",
   "execution_count": null,
   "id": "25bae48e-ed1c-456e-857b-290722e14fa5",
   "metadata": {},
   "outputs": [],
   "source": [
    "transactions.head()"
   ]
  },
  {
   "cell_type": "code",
   "execution_count": null,
   "id": "416a5050-9c9c-427f-81bc-960185f7e7d9",
   "metadata": {},
   "outputs": [],
   "source": [
    "analytics.head()"
   ]
  },
  {
   "cell_type": "code",
   "execution_count": null,
   "id": "774f24f0-4c38-4d05-860c-6ae0d0d56939",
   "metadata": {},
   "outputs": [],
   "source": [
    "all_user_ids = analytics.to_pandas().user_pseudo_id"
   ]
  },
  {
   "cell_type": "code",
   "execution_count": null,
   "id": "43bdcd65-e927-4e40-8e1c-efffd7f6f42e",
   "metadata": {},
   "outputs": [],
   "source": [
    "\"ba5e4473-d825-44d3-872b-78ff3061ad8d\" in all_user_ids"
   ]
  },
  {
   "cell_type": "markdown",
   "id": "85135e31-8228-4c7a-a9fd-769916023e01",
   "metadata": {},
   "source": [
    "### Merge"
   ]
  },
  {
   "cell_type": "code",
   "execution_count": null,
   "id": "bafaf471-91a4-467f-8f82-a6afd6e9540d",
   "metadata": {},
   "outputs": [],
   "source": [
    "users = users.to_spark()"
   ]
  },
  {
   "cell_type": "code",
   "execution_count": null,
   "id": "5aa42f68-bdf4-443e-9849-510bf26fbf49",
   "metadata": {},
   "outputs": [],
   "source": [
    "transactions = transactions.to_spark()"
   ]
  },
  {
   "cell_type": "code",
   "execution_count": null,
   "id": "e520c4e8-f1e4-4b6d-a970-aab3cea3a4ed",
   "metadata": {},
   "outputs": [],
   "source": [
    "users.createTempView(\"users\")"
   ]
  },
  {
   "cell_type": "code",
   "execution_count": null,
   "id": "5a79215c-bfec-4e7c-aca6-9e383be3f28c",
   "metadata": {},
   "outputs": [],
   "source": [
    "spark_session.sql(\"select event_id from users limit 10\").collect()"
   ]
  },
  {
   "cell_type": "code",
   "execution_count": null,
   "id": "7a9e1ac2-4fec-4425-a76a-3341de713fad",
   "metadata": {},
   "outputs": [],
   "source": [
    "users.select(\"event_id\").collect()"
   ]
  },
  {
   "cell_type": "markdown",
   "id": "313845a9-4ba5-4109-acf7-46c7ff3e26a8",
   "metadata": {},
   "source": [
    "## Tests"
   ]
  }
 ],
 "metadata": {
  "kernelspec": {
   "display_name": "Python 3",
   "language": "python",
   "name": "python3"
  },
  "language_info": {
   "codemirror_mode": {
    "name": "ipython",
    "version": 3
   },
   "file_extension": ".py",
   "mimetype": "text/x-python",
   "name": "python",
   "nbconvert_exporter": "python",
   "pygments_lexer": "ipython3",
   "version": "3.9.12"
  }
 },
 "nbformat": 4,
 "nbformat_minor": 5
}
