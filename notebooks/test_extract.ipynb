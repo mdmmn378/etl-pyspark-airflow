{
 "cells": [
  {
   "cell_type": "markdown",
   "id": "08e089c3-9228-45e0-b0b1-209a73825004",
   "metadata": {},
   "source": [
    "# Load Modules"
   ]
  },
  {
   "cell_type": "code",
   "execution_count": 1,
   "id": "0c9ba46e-ecc0-4dba-b098-1fd07d70987a",
   "metadata": {},
   "outputs": [],
   "source": [
    "import os\n",
    "os.chdir(\"../\")"
   ]
  },
  {
   "cell_type": "code",
   "execution_count": 2,
   "id": "f4d2c802-c2a4-487b-a4dc-e623ed4122d7",
   "metadata": {},
   "outputs": [],
   "source": [
    "from pyspark.sql import SparkSession\n",
    "import pandas as pd\n",
    "import json\n",
    "from functools import partial"
   ]
  },
  {
   "cell_type": "code",
   "execution_count": 3,
   "id": "2b3d8ea3-7ee6-4a82-9dde-a6966fa7d3ec",
   "metadata": {},
   "outputs": [],
   "source": [
    "from pyspark.sql.functions import udf, lit, col, current_date, datediff, timestamp_seconds, current_timestamp"
   ]
  },
  {
   "cell_type": "code",
   "execution_count": 4,
   "id": "8d0d8d3b-e151-4c0e-9c41-5c9855647daa",
   "metadata": {},
   "outputs": [],
   "source": [
    "from schemas.users import USERS_FIELD_DATA_SCHEMA\n",
    "from schemas.transactions import TRANSACTIONS_FIELD_DATA_SCHEMA"
   ]
  },
  {
   "cell_type": "code",
   "execution_count": 5,
   "id": "0f007a7f-837f-4e7b-b4a5-c4a59bcab904",
   "metadata": {},
   "outputs": [],
   "source": [
    "from pipeline.extract import create_df_columns, read_csv, convert_column_to_json"
   ]
  },
  {
   "cell_type": "code",
   "execution_count": 6,
   "id": "e8098806-74d4-4e5e-86e4-1b8dd5c891e9",
   "metadata": {},
   "outputs": [],
   "source": [
    "# spark_session = SparkSession.builder.appName(\"Test\").getOrCreate()\n",
    "spark_session = (\n",
    "    SparkSession.builder.appName(\"CreditBook ETL\")\n",
    "    .config(\"spark.executor.cores\", 8)\n",
    "    .config(\"spark.task.cpus\", 8)\n",
    "    .config(\"spark.cores.max\", 24)\n",
    "    .config(\"spark.driver.extraClassPath\", \"jars/postgresql-42.3.3.jar\")\n",
    "    .config(\"spark.executor.memory\", \"8g\")\n",
    "    .config(\"spark.executor.instance\", 4)\n",
    "    .config(\"spark.driver.memory\", \"8g\")\n",
    "    .config(\"spark.driver.maxResultSize\", \"8g\")\n",
    "    .getOrCreate()\n",
    ")\n",
    "# spark_session = (\n",
    "#     SparkSession.builder.appName(\"Python Spark SQL Hive integration example\")\n",
    "#     .config(\"spark.executor.cores\", 16)\n",
    "#     .config(\"spark.task.cpus\", 2)\n",
    "#     .config(\"spark.cores.max\", 24)\n",
    "#     .config(\"spark.executor.memory\", \"8g\")\n",
    "#     .config(\"spark.executor.instance\", 16)\n",
    "#     .config(\"spark.driver.memory\", \"8g\")\n",
    "#     # .config(\"spark.driver.extraClassPath\", \"../jars/postgresql-42.3.3.jar\")\n",
    "#     .getOrCreate()\n",
    "# )\n",
    "# spark_session = (\n",
    "#     SparkSession.builder.appName(\"Python Spark SQL Hive integration example\")\n",
    "#     .config(\"spark.executor.memory\", \"8g\")\n",
    "#     .config(\"spark.executor.instance\", 4)\n",
    "#     .config(\"spark.driver.memory\", \"8g\")\n",
    "#     .getOrCreate()\n",
    "# )\n"
   ]
  },
  {
   "cell_type": "markdown",
   "id": "6ad49e7a-e1ca-4ac8-8352-24c5927e4332",
   "metadata": {},
   "source": [
    "# Extract"
   ]
  },
  {
   "cell_type": "code",
   "execution_count": 7,
   "id": "da6509df-6118-4f5f-86cb-137f9dba3254",
   "metadata": {},
   "outputs": [],
   "source": [
    "users = read_csv(spark_session, \"datasets/users.csv\", \"users\")\n",
    "users = convert_column_to_json(users, \"data\", USERS_FIELD_DATA_SCHEMA)\n",
    "users = create_df_columns(users, USERS_FIELD_DATA_SCHEMA, \"data\")"
   ]
  },
  {
   "cell_type": "code",
   "execution_count": 8,
   "id": "35d2d195-9aeb-4566-845d-2589c08e7b27",
   "metadata": {},
   "outputs": [],
   "source": [
    "analytics = read_csv(spark_session, \"./datasets/analytics.csv\", \"analytics\")"
   ]
  },
  {
   "cell_type": "code",
   "execution_count": 9,
   "id": "aa2b76e9-a3c7-4df3-aee8-db8b29df53a5",
   "metadata": {},
   "outputs": [],
   "source": [
    "transactions = read_csv(spark_session, \"./datasets/transactions.csv\", \"transactions\")\n",
    "transactions = convert_column_to_json(transactions, \"data\", TRANSACTIONS_FIELD_DATA_SCHEMA)\n",
    "transactions = create_df_columns(transactions, TRANSACTIONS_FIELD_DATA_SCHEMA, \"data\")"
   ]
  },
  {
   "cell_type": "code",
   "execution_count": 10,
   "id": "1d0c563f-9f1f-4b2c-8348-76b449301133",
   "metadata": {},
   "outputs": [
    {
     "name": "stdout",
     "output_type": "stream",
     "text": [
      "+---+----------+----------+-------------+---------+-----------+----------+----------+------------------+----------------+------+\n",
      "|_c0| timestamp|  event_id|document_name|operation|document_id|      data|        id|user_last_activity|user_signup_date|rating|\n",
      "+---+----------+----------+-------------+---------+-----------+----------+----------+------------------+----------------+------+\n",
      "|  0|2021-10...|cf0f424...|   project...|   UPDATE| DrcOaVj...|{rating...|DrcOaVj...|        1633051286|      1598745600|   4.0|\n",
      "|  1|2021-08...|2ccb8df...|   project...|   UPDATE| DrcOaVj...|{rating...|DrcOaVj...|        1628868069|      1598745600|   4.0|\n",
      "|  2|2021-07...|4c4cdb6...|   project...|   UPDATE| DrcOaVj...|{rating...|DrcOaVj...|        1625326718|      1598745600|   4.0|\n",
      "|  3|2020-12...|79ed83b...|   project...|   UPDATE| DrcOaVj...|{rating...|DrcOaVj...|        1607841920|            null|  null|\n",
      "|  4|2021-08...|c53137d...|   project...|   UPDATE| DrcOaVj...|{rating...|DrcOaVj...|        1628703482|      1598745600|   4.0|\n",
      "+---+----------+----------+-------------+---------+-----------+----------+----------+------------------+----------------+------+\n",
      "only showing top 5 rows\n",
      "\n"
     ]
    }
   ],
   "source": [
    "users.show(5, truncate=10)"
   ]
  },
  {
   "cell_type": "code",
   "execution_count": 11,
   "id": "89715342-4c1c-414c-b6c9-7eb54b9ad3f0",
   "metadata": {},
   "outputs": [
    {
     "name": "stdout",
     "output_type": "stream",
     "text": [
      "+---+----------+----------+-------------+---------+-----------+----------+-------+------------------+--------------------------------------+----------+---------------------+----------------+-------+----------+\n",
      "|_c0| timestamp|  event_id|document_name|operation|document_id|      data| amount|creation_timestamp|customer_net_balance_after_transaction|      note|transaction_timestamp|transaction_type|   type|   user_id|\n",
      "+---+----------+----------+-------------+---------+-----------+----------+-------+------------------+--------------------------------------+----------+---------------------+----------------+-------+----------+\n",
      "|  0|2020-11...|8f11bd0...|   project...|   CREATE| QgNGgxE...|{note=1...| 1000.0|              null|                               -9000.0|     17.11|                 null|          credit|default|ba5e447...|\n",
      "|  1|2020-11...|ad7c8ad...|   project...|   CREATE| HCJ1trN...|{note=S...|   60.0|              null|                                 838.0|     Sabon|                 null|          credit|default|cc0e78f...|\n",
      "|  2|2021-12...|8a0b396...|   project...|   CREATE| a3878e8...|{note=J...|  700.0|              null|                                -700.0|Jazz Mo...|                 null|           debit|default|DrcOaVj...|\n",
      "|  3|2021-12...|d84c910...|   project...|   CREATE| 29101f2...|{note=,...| 4050.0|              null|                                4050.0|          |                 null|          credit|default|74bd445...|\n",
      "|  4|2020-11...|93a5ae9...|   project...|   CREATE| cCgOCm4...|{note=D...|10000.0|              null|                              -89785.0|   Dr sent|                 null|           debit|default|8c483cd...|\n",
      "+---+----------+----------+-------------+---------+-----------+----------+-------+------------------+--------------------------------------+----------+---------------------+----------------+-------+----------+\n",
      "only showing top 5 rows\n",
      "\n"
     ]
    }
   ],
   "source": [
    "transactions.show(5, truncate=10)"
   ]
  },
  {
   "cell_type": "code",
   "execution_count": 12,
   "id": "5cdfb4fa-db45-4e69-b641-beaa123f4e82",
   "metadata": {},
   "outputs": [
    {
     "name": "stdout",
     "output_type": "stream",
     "text": [
      "+---+----------+---------------+----------+-------+--------------+------------+----------+---------------+----------+-----------+\n",
      "|_c0|event_date|event_timestamp|event_name|user_id|user_pseudo_id|device_model|android_os|device_language|city_geoIp|app_version|\n",
      "+---+----------+---------------+----------+-------+--------------+------------+----------+---------------+----------+-----------+\n",
      "|  0|     20...|          20...|     se...|  22...|         2f...|       mo...|     An...|          en-us|     Ka...|      2....|\n",
      "|  1|     20...|          20...|     Cl...|  3b...|         df...|       mo...|     An...|          en-au|     Ka...|      2....|\n",
      "|  2|     20...|          20...|     Cl...|  3b...|         df...|       mo...|     An...|          en-au|     Ka...|      2....|\n",
      "|  3|     20...|          20...|     Cl...|  22...|         2f...|       mo...|     An...|          en-us|     Ka...|      2....|\n",
      "|  4|     20...|          20...|     Vi...|  22...|         2f...|       mo...|     An...|          en-us|     Ka...|      2....|\n",
      "+---+----------+---------------+----------+-------+--------------+------------+----------+---------------+----------+-----------+\n",
      "only showing top 5 rows\n",
      "\n"
     ]
    }
   ],
   "source": [
    "analytics.show(5, truncate=5)"
   ]
  },
  {
   "cell_type": "code",
   "execution_count": 13,
   "id": "0d7f1f8f-9250-4e03-92e9-490b00bf0769",
   "metadata": {},
   "outputs": [
    {
     "name": "stdout",
     "output_type": "stream",
     "text": [
      "root\n",
      " |-- _c0: string (nullable = true)\n",
      " |-- timestamp: string (nullable = true)\n",
      " |-- event_id: string (nullable = true)\n",
      " |-- document_name: string (nullable = true)\n",
      " |-- operation: string (nullable = true)\n",
      " |-- document_id: string (nullable = true)\n",
      " |-- data: string (nullable = true)\n",
      " |-- id: string (nullable = true)\n",
      " |-- user_last_activity: integer (nullable = true)\n",
      " |-- user_signup_date: integer (nullable = true)\n",
      " |-- rating: float (nullable = true)\n",
      "\n"
     ]
    }
   ],
   "source": [
    "users.printSchema()"
   ]
  },
  {
   "cell_type": "code",
   "execution_count": 14,
   "id": "9a3e63d5-2a5a-4ca1-944c-0c11dd04bb3c",
   "metadata": {},
   "outputs": [
    {
     "name": "stdout",
     "output_type": "stream",
     "text": [
      "root\n",
      " |-- _c0: string (nullable = true)\n",
      " |-- timestamp: string (nullable = true)\n",
      " |-- event_id: string (nullable = true)\n",
      " |-- document_name: string (nullable = true)\n",
      " |-- operation: string (nullable = true)\n",
      " |-- document_id: string (nullable = true)\n",
      " |-- data: string (nullable = true)\n",
      " |-- amount: float (nullable = true)\n",
      " |-- creation_timestamp: timestamp (nullable = true)\n",
      " |-- customer_net_balance_after_transaction: float (nullable = true)\n",
      " |-- note: string (nullable = true)\n",
      " |-- transaction_timestamp: timestamp (nullable = true)\n",
      " |-- transaction_type: string (nullable = true)\n",
      " |-- type: string (nullable = true)\n",
      " |-- user_id: string (nullable = true)\n",
      "\n"
     ]
    }
   ],
   "source": [
    "transactions.printSchema()"
   ]
  },
  {
   "cell_type": "markdown",
   "id": "ef75d459-0157-40cf-8db9-c1dd2f7137ef",
   "metadata": {},
   "source": [
    "# Transform"
   ]
  },
  {
   "cell_type": "code",
   "execution_count": 15,
   "id": "0869f588-1053-4512-97b5-04aad25365c2",
   "metadata": {},
   "outputs": [
    {
     "data": {
      "text/plain": [
       "[Row(transaction_type=None),\n",
       " Row(transaction_type='credit'),\n",
       " Row(transaction_type='debit')]"
      ]
     },
     "execution_count": 15,
     "metadata": {},
     "output_type": "execute_result"
    }
   ],
   "source": [
    "transactions.select(\"transaction_type\").distinct().collect()"
   ]
  },
  {
   "cell_type": "code",
   "execution_count": 16,
   "id": "e6487116-df08-44e9-801d-0596b0e16051",
   "metadata": {},
   "outputs": [],
   "source": [
    "amount_of_debits = transactions.filter(transactions.transaction_type==\"debit\").groupby(\"user_id\").sum(\"amount\").withColumnRenamed(\"sum(amount)\", \"amount_of_debits\").cache()"
   ]
  },
  {
   "cell_type": "code",
   "execution_count": 17,
   "id": "26a42570-6687-4e7f-855a-65f50f818bb2",
   "metadata": {},
   "outputs": [],
   "source": [
    "no_of_debits = transactions.filter(transactions.transaction_type==\"debit\").groupby(\"user_id\").count().withColumnRenamed(\"count\", \"no_of_debits\").cache()"
   ]
  },
  {
   "cell_type": "code",
   "execution_count": 18,
   "id": "c30388bc-a356-4d58-aff8-22d1f75cada9",
   "metadata": {},
   "outputs": [],
   "source": [
    "amount_of_credits = transactions.filter(transactions.transaction_type==\"credit\").groupby(\"user_id\").sum(\"amount\").withColumnRenamed(\"sum(amount)\", \"amount_of_credits\").cache()"
   ]
  },
  {
   "cell_type": "code",
   "execution_count": 19,
   "id": "489b4422-2638-47c4-985f-ae92aebe37bf",
   "metadata": {},
   "outputs": [],
   "source": [
    "no_of_credits = transactions.filter(transactions.transaction_type==\"debit\").groupby(\"user_id\").count().withColumnRenamed(\"count\", \"no_of_credits\").cache()"
   ]
  },
  {
   "cell_type": "code",
   "execution_count": 20,
   "id": "dd8ac690-b279-4262-9c9c-e88d3b4ab02a",
   "metadata": {},
   "outputs": [],
   "source": [
    "amount_of_total_transactions = transactions.groupby(\"user_id\").sum(\"amount\").withColumnRenamed(\"sum(amount)\", \"amount_of_total_transactions\").cache()"
   ]
  },
  {
   "cell_type": "code",
   "execution_count": 21,
   "id": "00f4aafd-7689-4bdd-afcb-ee7834f2b97f",
   "metadata": {},
   "outputs": [],
   "source": [
    "no_of_transactions = transactions.filter(transactions.transaction_type.isin([\"credit\", \"debit\"])).groupby(\"user_id\").count().withColumnRenamed(\"count\", \"no_of_transactions\").cache()"
   ]
  },
  {
   "cell_type": "code",
   "execution_count": 22,
   "id": "50557bea-8789-4ac7-8233-de5c40cd0c34",
   "metadata": {},
   "outputs": [],
   "source": [
    "ratings = users.select(col(\"id\").alias(\"user_id\"), \"rating\").groupby(\"user_id\").avg(\"rating\").withColumnRenamed(\"avg(rating)\", \"rating\").cache()"
   ]
  },
  {
   "cell_type": "code",
   "execution_count": 23,
   "id": "d79887eb-9144-44fc-a017-1ef6d6fb5004",
   "metadata": {},
   "outputs": [],
   "source": [
    "user_last_activity = users.select(col(\"id\").alias(\"user_id\"), \"user_last_activity\").groupby(\"user_id\").agg({\"user_last_activity\": \"max\"}).withColumnRenamed(\"max(user_last_activity)\", \"user_last_activity\").cache()"
   ]
  },
  {
   "cell_type": "code",
   "execution_count": 24,
   "id": "a4c8af16-9876-49b2-b7fd-10cb5c8e63b3",
   "metadata": {},
   "outputs": [],
   "source": [
    "user_last_activity = user_last_activity.withColumn(\"days_since_last_activity\", datediff(current_date(), col(\"user_last_activity\").cast(\"timestamp\")))"
   ]
  },
  {
   "cell_type": "code",
   "execution_count": 25,
   "id": "f9e6d187-a1ac-4c1d-81f0-d791ce54b442",
   "metadata": {},
   "outputs": [],
   "source": [
    "user_last_activity = user_last_activity.withColumn(\"created_at\", current_timestamp()).cache()"
   ]
  },
  {
   "cell_type": "code",
   "execution_count": 26,
   "id": "d1e9eb8c-69af-4469-818b-5432c7f5a572",
   "metadata": {},
   "outputs": [],
   "source": [
    "user_last_activity = user_last_activity.withColumn(\"user_last_activity\", col(\"user_last_activity\").cast(\"timestamp\")).cache()"
   ]
  },
  {
   "cell_type": "code",
   "execution_count": 27,
   "id": "c02201c7-ffe7-4314-b973-bcd1085f84ea",
   "metadata": {},
   "outputs": [],
   "source": [
    "days_since_signup = users.groupby(\"id\").agg({\"user_signup_date\": \"first\"}).cache()\n",
    "days_since_signup = days_since_signup.withColumnRenamed(\"id\", \"user_id\").withColumnRenamed(\"first(user_signup_date)\", \"days_since_signup\")\n",
    "days_since_signup = days_since_signup.select(\"user_id\", (datediff(current_date(), col(\"days_since_signup\").cast(\"timestamp\"))).alias(\"days_since_signup\")).cache()"
   ]
  },
  {
   "cell_type": "code",
   "execution_count": 28,
   "id": "085e01ab-a235-4674-8c7f-cedf514c34ba",
   "metadata": {},
   "outputs": [],
   "source": [
    "user_info = analytics.groupby(\"user_id\").agg({\"device_language\": \"first\", \"city_geoIp\": \"first\", \"app_version\": \"first\", \"device_model\": \"first\"})\n",
    "user_info = user_info.withColumnRenamed(\"first(app_version)\", \"app_version\").withColumnRenamed(\"first(device_model)\", \"phone_model\")\n",
    "user_info = user_info.withColumnRenamed(\"first(device_language)\", \"language\").withColumnRenamed(\"first(city_geoIp)\", \"city\")"
   ]
  },
  {
   "cell_type": "code",
   "execution_count": 29,
   "id": "11eed265-cabf-4632-97bb-06e18cf8d7fe",
   "metadata": {},
   "outputs": [
    {
     "name": "stdout",
     "output_type": "stream",
     "text": [
      "+--------------------+-----------+--------------------+--------+----------+\n",
      "|             user_id|app_version|         phone_model|language|      city|\n",
      "+--------------------+-----------+--------------------+--------+----------+\n",
      "|031e8f64-0e97-4f4...|     2.26.0|     mobile Y20 2021|   en-pk|    Lahore|\n",
      "|03cfd11f-8d63-407...|     2.25.0|     mobile Y9 Prime|   en-us|   Karachi|\n",
      "|0e610016-5bd3-4d0...|     2.26.0|   mobile Galaxy A50|   en-gb|   Karachi|\n",
      "|14f817d0-ef4f-484...|     2.26.0|   mobile Spark 6 Go|   en-us|    Multan|\n",
      "|1514610d-50a1-4ab...|     2.26.0|         mobile Y51A|   en-pk|   Karachi|\n",
      "|17785423-24bf-465...|     2.26.0|          mobile F15|   en-us|    Multan|\n",
      "|229cb688-c853-461...|     2.26.0|       mobile S1 Pro|   en-us|   Karachi|\n",
      "|2d1fb3f7-77f3-47c...|     2.26.0|       mobile S1 Pro|   en-us|    Lahore|\n",
      "|2f00ade9-c5a9-48c...|     2.26.0|mobile Galaxy J5 ...|   en-us|   Karachi|\n",
      "|3682275d-5450-44f...|     2.26.0|          mobile Y15|   en-us|    Multan|\n",
      "|3bddd824-6deb-42a...|     2.26.0| mobile Reno5 Pro 5G|   en-au|   Karachi|\n",
      "|41a4220d-f80a-480...|     2.26.0|        mobile Hot 8|   en-us|   Karachi|\n",
      "|441c8878-5f4f-424...|     2.26.0| mobile Galaxy Note9|   en-us|    Lahore|\n",
      "|5015223e-1bbb-456...|     2.25.0|           mobile A5|   en-us|    Lahore|\n",
      "|6509928c-77f9-44b...|     2.26.0|     mobile Y20 2021|   en-pk|     Miami|\n",
      "|6521bdc4-26a0-4be...|     2.26.0|      mobile nova 3i|   en-pk|Rawalpindi|\n",
      "|671d933f-f411-49f...|     2.26.0| mobile Reno5 Pro 5G|   en-us|   Karachi|\n",
      "|684b1f95-de9b-45a...|     2.26.0|                null|   en-gb|   Karachi|\n",
      "|6a7f452e-7ca6-49d...|     2.26.0|           mobile 5i|   en-us|   Karachi|\n",
      "|6ab12451-393e-401...|     2.26.0|       mobile F9 Pro|   en-us|   Karachi|\n",
      "+--------------------+-----------+--------------------+--------+----------+\n",
      "only showing top 20 rows\n",
      "\n"
     ]
    }
   ],
   "source": [
    "user_info.show()"
   ]
  },
  {
   "cell_type": "code",
   "execution_count": 30,
   "id": "179d3947-6090-44d1-8024-63beabe4e5c7",
   "metadata": {},
   "outputs": [],
   "source": [
    "final = amount_of_credits.join(no_of_credits, on=\"user_id\", how=\"left\").join(\n",
    "    amount_of_debits, on=\"user_id\", how=\"left\"\n",
    ").join(\n",
    "    no_of_debits, on=\"user_id\", how=\"left\"\n",
    ").join(\n",
    "    amount_of_total_transactions, on=\"user_id\", how=\"left\"\n",
    ").join(\n",
    "    no_of_transactions, on=\"user_id\", how=\"left\"\n",
    ").join(\n",
    "    ratings, on=\"user_id\", how=\"left\"\n",
    ").join(\n",
    "    user_last_activity, on=\"user_id\", how=\"left\"\n",
    ").join(\n",
    "    days_since_signup, on=\"user_id\", how=\"left\"\n",
    ").join(\n",
    "    user_info, on=\"user_id\", how=\"left\"\n",
    ")"
   ]
  },
  {
   "cell_type": "code",
   "execution_count": 31,
   "id": "6e88ff26-9d65-4fc3-a1ae-6329c3712ff6",
   "metadata": {},
   "outputs": [
    {
     "name": "stdout",
     "output_type": "stream",
     "text": [
      "+--------------------+--------------------+-------------+------------------+------------+----------------------------+------------------+-----------------+-------------------+------------------------+--------------------+-----------------+-----------+-----------------+--------+----------+\n",
      "|             user_id|   amount_of_credits|no_of_credits|  amount_of_debits|no_of_debits|amount_of_total_transactions|no_of_transactions|           rating| user_last_activity|days_since_last_activity|          created_at|days_since_signup|app_version|      phone_model|language|      city|\n",
      "+--------------------+--------------------+-------------+------------------+------------+----------------------------+------------------+-----------------+-------------------+------------------------+--------------------+-----------------+-----------+-----------------+--------+----------+\n",
      "|dcaf1888-4514-4c1...|         2.3433795E7|         7683|       2.3339095E7|        7683|                  4.677289E7|             13745|              5.0|2021-12-21 15:48:58|                     115|2022-04-15 08:58:...|              395|     2.14.0|     mobile Hot 9|   en-us|Rawalpindi|\n",
      "|6521bdc4-26a0-4be...|       1.173685422E9|        14879|     1.453744892E8|       14879|        1.3190599111999998E9|             23259|              4.0|2021-12-17 15:14:13|                     119|2022-04-15 08:58:...|              330|     2.26.0|   mobile nova 3i|   en-pk|Rawalpindi|\n",
      "|8fc029c3-2ec0-441...|            893673.0|         6844|         1068601.0|        6844|                   1962274.0|              8446|3.999709217795871|2021-12-21 17:24:23|                     115|2022-04-15 08:58:...|              452|     2.26.0|   mobile Spark 5|   en-us|    Multan|\n",
      "|031e8f64-0e97-4f4...|           5556595.0|        11853|       1.1622256E7|       11853|                 1.7178851E7|             13628|              5.0|2021-12-21 20:54:20|                     115|2022-04-15 08:58:...|              292|     2.26.0|  mobile Y20 2021|   en-pk|    Lahore|\n",
      "|81c995b0-7a19-47b...|   9312905.172000006|         5942|       1.0962711E7|        5942|        2.0275616172000006E7|              9070|              5.0|2021-12-22 00:26:42|                     114|2022-04-15 08:58:...|              349|     2.26.0|       mobile Y20|   en-us|    Lahore|\n",
      "|ee1c2c31-b463-46b...|           4339171.0|        10521|         4209392.0|       10521|                   8548563.0|             16709|              5.0|2021-12-22 00:34:20|                     114|2022-04-15 08:58:...|              487|     2.26.0|       mobile A53|   en-us|Rawalpindi|\n",
      "|a50fc2e9-1454-475...|           3992527.0|        10613|         4652910.0|       10613|                   8645437.0|             12640|              4.0|2021-12-21 22:55:42|                     115|2022-04-15 08:58:...|              417|     2.26.0|mobile Galaxy A72|   en-gb|      null|\n",
      "|14f817d0-ef4f-484...|   868345.1000000015|         8976|         2690150.0|        8976|          3558495.1000000015|             11541|              4.0|2021-12-21 21:17:32|                     115|2022-04-15 08:58:...|              411|     2.26.0|mobile Spark 6 Go|   en-us|    Multan|\n",
      "|fe9c3105-f134-4cf...|           1700722.0|        21084| 1.927344897251E12|       21084|           1.927346597973E12|             26763|              4.0|2021-12-22 00:34:24|                     114|2022-04-15 08:58:...|              356|     2.19.7|    mobile Hot 10|   en-us|    Lahore|\n",
      "|f6fdcdd2-98f7-400...|  3909331.3999938965|         8425|4174580.8999996185|        8425|           8083912.299993515|             10062|              5.0|2021-12-21 21:59:46|                     115|2022-04-15 08:58:...|              381|     2.26.0|   mobile V15 Pro|   en-us|Rawalpindi|\n",
      "|ba5e4473-d825-44d...|1.2575062230000001E8|         6695|       1.2865939E8|        6695|               2.544100123E8|             17867|              4.0|2021-12-21 21:35:57|                     115|2022-04-15 08:58:...|             null|     2.26.0|      mobile Y12s|   en-pk|   Karachi|\n",
      "|cb98d081-a469-49a...|   4304859.607177734|        10970|3518930.3093719482|       10970|           7823789.916549683|             15522|              5.0|2021-12-20 23:02:44|                     116|2022-04-15 08:58:...|              334|     2.26.0|        mobile S1|   en-us|    Multan|\n",
      "|6ab12451-393e-401...|          8994238.25|        13764| 8945136.612000465|       13764|        1.7939374862000465E7|             17037|              4.0|2021-12-22 00:00:15|                     114|2022-04-15 08:58:...|              493|     2.26.0|    mobile F9 Pro|   en-us|   Karachi|\n",
      "|e30ee11c-9d67-4de...|           1671648.0|         8254|         1402988.0|        8254|                   3074636.0|              9186|4.999892680832796|2021-12-21 23:24:55|                     115|2022-04-15 08:58:...|              325|     2.25.0|       mobile A3s|   en-us|Faisalabad|\n",
      "|fb06050f-3a70-468...|            645470.0|         6623|      7.32868357E8|        6623|                7.33513827E8|              7529|              4.0|2021-12-21 23:17:59|                     115|2022-04-15 08:58:...|              275|     2.22.0|mobile Y11 (2019)|   en-us|Rawalpindi|\n",
      "|a183f262-1f2a-4a2...|           2179610.0|         7994|         2202624.0|        7994|                   4382234.0|              8755|              5.0|2021-12-21 19:50:55|                     115|2022-04-15 08:58:...|              323|     2.26.0|mobile Hot 9 Play|   en-us|   Karachi|\n",
      "|f7525e56-be3f-411...|         1.0604923E7|         5412|       1.0469376E7|        5412|                 2.1074299E7|             10289|              4.0|2021-12-21 16:50:42|                     115|2022-04-15 08:58:...|              325|     2.26.0|mobile Galaxy A31|   en-gb|   Karachi|\n",
      "|ebcd5d00-ff06-49e...|         8.0038511E7|         4119|       8.5591513E7|        4119|                1.65630024E8|              7824|3.951929587000677|2021-12-20 20:01:57|                     116|2022-04-15 08:58:...|              418|     2.26.0|       mobile F15|   en-us|    Lahore|\n",
      "|fb35a836-759c-4a6...|          3746901.51|         5038|        3831840.76|        5038|                  7578742.27|              7891|              5.0|2021-12-20 11:32:45|                     116|2022-04-15 08:58:...|              339|     2.25.0|             null|   en-us|   Karachi|\n",
      "|cfbf6682-7377-4f4...|           3646821.0|         6975|3639835.9166870117|        6975|           7286656.916687012|              8724|              5.0|2021-12-21 18:01:54|                     115|2022-04-15 08:58:...|              361|     2.26.0| mobile Galaxy J6|   en-gb| Islamabad|\n",
      "+--------------------+--------------------+-------------+------------------+------------+----------------------------+------------------+-----------------+-------------------+------------------------+--------------------+-----------------+-----------+-----------------+--------+----------+\n",
      "only showing top 20 rows\n",
      "\n"
     ]
    }
   ],
   "source": [
    "final.show()"
   ]
  },
  {
   "cell_type": "markdown",
   "id": "0cbd47b5-28b8-4d47-9184-e84fde36bef2",
   "metadata": {},
   "source": [
    "# Load"
   ]
  },
  {
   "cell_type": "code",
   "execution_count": 32,
   "id": "f2842daf-f669-4cde-ae85-539bba54a33f",
   "metadata": {},
   "outputs": [],
   "source": [
    "def save_to_postgres(df):\n",
    "    df.write.format(\"jdbc\").option(\n",
    "        \"url\", \"jdbc:postgresql://localhost:5432/test\"\n",
    "    ).option(\"dbtable\", \"users_dw\").option(\"user\", \"mamun\").option(\n",
    "        \"password\", \"mamun1234\"\n",
    "    ).mode(\n",
    "        \"overwrite\"\n",
    "    ).save()\n"
   ]
  },
  {
   "cell_type": "code",
   "execution_count": 33,
   "id": "2480f8f9-3b17-4d20-8e58-ed642871e9dc",
   "metadata": {},
   "outputs": [],
   "source": [
    "save_to_postgres(final)"
   ]
  },
  {
   "cell_type": "markdown",
   "id": "e96b2754-ed1d-4af3-bcf3-c7868bbd8914",
   "metadata": {},
   "source": [
    "# Test RAW"
   ]
  },
  {
   "cell_type": "code",
   "execution_count": null,
   "id": "ccbeffaa-8043-4122-b7a3-9123dc873b30",
   "metadata": {},
   "outputs": [],
   "source": []
  }
 ],
 "metadata": {
  "kernelspec": {
   "display_name": "Python 3",
   "language": "python",
   "name": "python3"
  },
  "language_info": {
   "codemirror_mode": {
    "name": "ipython",
    "version": 3
   },
   "file_extension": ".py",
   "mimetype": "text/x-python",
   "name": "python",
   "nbconvert_exporter": "python",
   "pygments_lexer": "ipython3",
   "version": "3.9.12"
  }
 },
 "nbformat": 4,
 "nbformat_minor": 5
}
